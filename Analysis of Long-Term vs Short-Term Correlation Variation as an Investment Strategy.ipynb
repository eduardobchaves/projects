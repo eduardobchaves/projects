{
 "cells": [
  {
   "cell_type": "markdown",
   "id": "b7587e41-3826-426d-9816-a9517a3cd721",
   "metadata": {},
   "source": [
    "#### Student name: Eduardo Bernardoni Chaves\n",
    "#### Student ID: 22004916\n"
   ]
  },
  {
   "cell_type": "markdown",
   "id": "9b20f189-c3e0-4455-b503-f72cc34c9501",
   "metadata": {},
   "source": [
    "## Analysis of Long-Term vs Short-Term Correlation Variation as an Investment Strategy"
   ]
  },
  {
   "cell_type": "markdown",
   "id": "3b77d8e5-830c-4832-a62a-4ab0f2366b07",
   "metadata": {},
   "source": [
    "### 1. Introduction"
   ]
  },
  {
   "cell_type": "markdown",
   "id": "7526672b-cba9-46e2-b0e1-22a86ef83b0c",
   "metadata": {},
   "source": [
    "The correlation between stock market and macroeconomic indicators is used to predict and evaluate the potential profits in an investment, looking for patterns in the financial markets that can explain and better estimate an expected profitable operation.\n",
    "\n",
    "The Dow Jones Industrial Average (DJIA) is one of the main stock market indicators in the world, and is used to evaluate market movements and performance.\n",
    "\n",
    "The index is compounded by 30 stocks that are selected by The Wall Street Journal editors and each company is weighted based on the price of its stock. There are index funds linked to the DJIA that try to emulate its weights and performance, but you cannot invest directly in DJIA.\n",
    "\n",
    "Being one of the most common stock market indicators of the United States, and also being compounded by 30 of the largest and most important companies of the country, it is plausible to try to link DJIA and/or its stocks and the United States economic indicators and evaluate the correlation between them.\n",
    "\n",
    "The objective of this analysis is to identify if the long-term correlation between macroeconomic variables and highly visible stocks (such as DJIA listed) can be compared with the short-term correlation of the same variables, looking for gaps in the correlation trend that can be an indication of an investment opportunity.\n",
    "\n",
    "The study will focus on Business Confidence Index (BCI) and Employment Rate (EMP) as the macroeconomic indicators.\n",
    "\n",
    "On the financial markets side of the correlation study, we will observe the SPDR DIA (Dow Jones® Industrial Average ETF Trust) and the highest weighted stock in the Dow Jones Index."
   ]
  },
  {
   "cell_type": "markdown",
   "id": "4f25fff2-b57a-4ce7-9c17-6bdbfe3fcf59",
   "metadata": {},
   "source": [
    "#### 1.1 Datasets Used\n",
    "- Dow Jones List of Companies and Weighting (updated daily - Web Scrapping)\n",
    "- Stock Market Monthly Time Series (updated monthly - API)\n",
    "- US Market Confidence\n",
    "- US Employability Index"
   ]
  },
  {
   "cell_type": "markdown",
   "id": "a456b472-7886-4b62-a4a7-f719012af405",
   "metadata": {},
   "source": [
    "#### 1.2 Research Questions\n",
    "- Is there a correlation between key DJIA stocks and economic indicators?\n",
    "- Are there correlation variances when we compare short-term and long-term analysis? If yes, is it possible to understand which variable is mainly responsible for the variation?\n",
    "- If there are correlation variances comparing short-term vs long-term, can we use slope adjustment to identify expected stock performance?"
   ]
  },
  {
   "cell_type": "markdown",
   "id": "d01f3af8-985d-4836-8d68-8cc68733caf2",
   "metadata": {},
   "source": [
    "#### 1.3 Importing Packages"
   ]
  },
  {
   "cell_type": "code",
   "execution_count": 1,
   "id": "83dbca4b-09b1-4b5b-bcbf-47ee4229a7e6",
   "metadata": {
    "tags": []
   },
   "outputs": [],
   "source": [
    "import pandas as pd # library for data analysis\n",
    "from bs4 import BeautifulSoup # library to parse HTML documents\n",
    "import requests as rq\n",
    "import json\n",
    "import seaborn as sns\n",
    "import matplotlib.pyplot as plt\n",
    "import plotly.graph_objects as go\n",
    "import matplotlib.patches as mpatches\n",
    "from datetime import date\n",
    "from dateutil.relativedelta import relativedelta\n",
    "\n",
    "from functools import reduce\n",
    "\n",
    "import scipy\n",
    "\n",
    "from scipy.stats import linregress\n",
    "\n",
    "import warnings\n",
    "warnings.filterwarnings(\"ignore\")"
   ]
  },
  {
   "cell_type": "markdown",
   "id": "c15ac27b-3dd8-482a-8fcd-9c9b2045af83",
   "metadata": {},
   "source": [
    "#### 1.4 Create functions for use during analysis"
   ]
  },
  {
   "cell_type": "code",
   "execution_count": 2,
   "id": "96076cec-b441-4adb-84a3-228cc0fb1294",
   "metadata": {},
   "outputs": [],
   "source": [
    "#Function to import csv file extracted from OECD website\n",
    "def df_oecd(path):\n",
    "    ts_oecd=pd.read_csv(path)\n",
    "    ts_oecd['Date']=ts_oecd['TIME']+'-01'\n",
    "    ts_oecd['Date']=pd.to_datetime(ts_oecd['Date'])\n",
    "    ts_oecd = ts_oecd[ts_oecd[\"LOCATION\"] == 'USA']\n",
    "    ts_oecd.sort_values(by=['Date'])\n",
    "    ts_oecd.head()\n",
    "    \n",
    "    return ts_oecd;\n",
    "\n",
    "#Function to import data from Alphavantage website based on DJIA Rank position (API)\n",
    "def df_rank(rank):\n",
    "    function='TIME_SERIES_MONTHLY'\n",
    "    symbol=symb_list[rank]\n",
    "    output_size='compact'\n",
    "    data_type='json'\n",
    "    api_key='M4HRU5SZA3C6D3MW'\n",
    "\n",
    "    base_url = \"https://www.alphavantage.co/query?\"\n",
    "    params = {\"function\":function, \"symbol\":symbol, \"outputsize\":output_size, \"datatype\":data_type, \"apikey\":api_key}\n",
    "\n",
    "    response = rq.get(base_url, params=params)\n",
    "    r=rq.get(base_url,params=params)\n",
    "    data=r.json()\n",
    "\n",
    "    ts = data.get(\"Monthly Time Series\")\n",
    "    ts=pd.DataFrame(ts)\n",
    "    ts=ts.T\n",
    "    ts['Symbol']=symbol\n",
    "    ts['Date']=ts.index\n",
    "    ts=ts.reset_index(drop=True)\n",
    "    ts['Date']=ts['Date'].str[:4]+'-'+ts['Date'].str[5:7]\n",
    "    ts['Date']=pd.to_datetime(ts['Date'])\n",
    "    \n",
    "    return ts;\n",
    "\n",
    "#Function to import data from Alphavantage website based on stock Symbol\n",
    "def df_symbol(symbol):\n",
    "\n",
    "    function='TIME_SERIES_MONTHLY'\n",
    "    symbol=symbol\n",
    "    output_size='compact'\n",
    "    data_type='json'\n",
    "    api_key='M4HRU5SZA3C6D3MW'\n",
    "\n",
    "    base_url = \"https://www.alphavantage.co/query?\"\n",
    "    params = {\"function\":function, \"symbol\":symbol, \"outputsize\":output_size, \"datatype\":data_type, \"apikey\":api_key}\n",
    "\n",
    "    response = rq.get(base_url, params=params)\n",
    "    r=rq.get(base_url,params=params)\n",
    "    data=r.json()\n",
    "\n",
    "    ts_symb = data.get(\"Monthly Time Series\")\n",
    "    ts_symb=pd.DataFrame(ts_symb)\n",
    "    ts_symb=ts_symb.T\n",
    "    ts_symb['Symbol']=symbol\n",
    "    ts_symb['Date']=ts_symb.index\n",
    "    ts_symb=ts_symb.reset_index(drop=True)\n",
    "    ts_symb['Date']=ts_symb['Date'].str[:4]+'-'+ts_symb['Date'].str[5:7]\n",
    "    ts_symb['Date']=pd.to_datetime(ts_symb['Date'])\n",
    "    ts_symb.columns = ['Open','High','Low','Close','Volume','Symbol','Date']\n",
    "\n",
    "    return ts_symb\n",
    "\n",
    "#Function to calculate and compare the correlation in different periods\n",
    "def correl_index(index1,index2):\n",
    "    long=scipy.stats.pearsonr(final_df[index1], final_df[index2])\n",
    "    medium=scipy.stats.pearsonr(df_medium[index1], df_medium[index2])\n",
    "    short=scipy.stats.pearsonr(df_short[index1], df_short[index2])\n",
    "    \n",
    "    return print(\"LT: \"+str(round(long[0],2))+\" MT: \"+str(round(medium[0],2))+\" ST: \"+str(round(short[0],2)))\n",
    "\n",
    "#Function to show correlation plot\n",
    "def corr_plot(a,b):\n",
    "     \n",
    "    dfreg=final_df[[a,b]]\n",
    "    dfreg=dfreg.dropna()\n",
    "    dfstats=scipy.stats.pearsonr(dfreg[a], dfreg[b])\n",
    "    g4=sns.jointplot(data=dfreg,x=a,y=b,kind=\"reg\")\n",
    "    g4.ax_joint.set_xlabel(a)\n",
    "    g4.ax_joint.set_ylabel(b)\n",
    "\n",
    "    plt.text(10,500,\"pearsonr: \"+str(round(dfstats[0],3)),fontsize=14)\n",
    "    plt.text(10,440,\"p-value: \"+str(dfstats[1]),fontsize=14)\n",
    "\n",
    "    plt.subplots_adjust(top=0.9)\n",
    "    plt.suptitle(str(a)+\" vs \"+str(b),fontsize=16)\n",
    "   \n",
    "    return plt.show()"
   ]
  },
  {
   "cell_type": "markdown",
   "id": "7aa7dc0a-6524-4498-b316-08a16fda6dbf",
   "metadata": {},
   "source": [
    "#### 1.5 Import Datasets"
   ]
  },
  {
   "cell_type": "markdown",
   "id": "a87bb49d-7b60-4904-ae4d-bcd655965785",
   "metadata": {},
   "source": [
    "##### 1.5.1 DJIA Ranking - Wikipedia Daily Update"
   ]
  },
  {
   "cell_type": "code",
   "execution_count": 3,
   "id": "da4ea5dd-6e86-4cf4-a961-279778ed908d",
   "metadata": {},
   "outputs": [
    {
     "data": {
      "text/html": [
       "<div>\n",
       "<style scoped>\n",
       "    .dataframe tbody tr th:only-of-type {\n",
       "        vertical-align: middle;\n",
       "    }\n",
       "\n",
       "    .dataframe tbody tr th {\n",
       "        vertical-align: top;\n",
       "    }\n",
       "\n",
       "    .dataframe thead th {\n",
       "        text-align: right;\n",
       "    }\n",
       "</style>\n",
       "<table border=\"1\" class=\"dataframe\">\n",
       "  <thead>\n",
       "    <tr style=\"text-align: right;\">\n",
       "      <th></th>\n",
       "      <th>Company</th>\n",
       "      <th>Exchange</th>\n",
       "      <th>Symbol</th>\n",
       "      <th>Industry</th>\n",
       "      <th>Date added</th>\n",
       "      <th>Notes</th>\n",
       "      <th>Index weighting</th>\n",
       "      <th>Weight</th>\n",
       "      <th>Rank</th>\n",
       "      <th>Date</th>\n",
       "    </tr>\n",
       "  </thead>\n",
       "  <tbody>\n",
       "    <tr>\n",
       "      <th>0</th>\n",
       "      <td>UnitedHealth</td>\n",
       "      <td>NYSE</td>\n",
       "      <td>UNH</td>\n",
       "      <td>Managed health care</td>\n",
       "      <td>2012-09-24</td>\n",
       "      <td>NaN</td>\n",
       "      <td>10.14%</td>\n",
       "      <td>0.1014</td>\n",
       "      <td>1.0</td>\n",
       "      <td>2012-09-01</td>\n",
       "    </tr>\n",
       "    <tr>\n",
       "      <th>1</th>\n",
       "      <td>Goldman Sachs</td>\n",
       "      <td>NYSE</td>\n",
       "      <td>GS</td>\n",
       "      <td>Financial services</td>\n",
       "      <td>2013-09-20</td>\n",
       "      <td>NaN</td>\n",
       "      <td>6.22%</td>\n",
       "      <td>0.0622</td>\n",
       "      <td>2.0</td>\n",
       "      <td>2013-09-01</td>\n",
       "    </tr>\n",
       "  </tbody>\n",
       "</table>\n",
       "</div>"
      ],
      "text/plain": [
       "         Company Exchange Symbol             Industry  Date added Notes  \\\n",
       "0   UnitedHealth     NYSE    UNH  Managed health care  2012-09-24   NaN   \n",
       "1  Goldman Sachs     NYSE     GS   Financial services  2013-09-20   NaN   \n",
       "\n",
       "  Index weighting  Weight  Rank       Date  \n",
       "0          10.14%  0.1014   1.0 2012-09-01  \n",
       "1           6.22%  0.0622   2.0 2013-09-01  "
      ]
     },
     "execution_count": 3,
     "metadata": {},
     "output_type": "execute_result"
    }
   ],
   "source": [
    "# Data collection using Web-Scrapping method\n",
    "wiki=\"https://en.wikipedia.org/wiki/Dow_Jones_Industrial_Average#:~:text=The%20Dow%20Jones%20Industrial%20Average,exchanges%20in%20the%20United%20States.\"\n",
    "table_class=\"mediawiki ltr sitedir-ltr mw-hide-empty-elt ns-0 ns-subject mw-editable page-Dow_Jones_Industrial_Average rootpage-Dow_Jones_Industrial_Average skin-vector action-view skin-vector-legacy\"\n",
    "response=rq.get(wiki)\n",
    "\n",
    "#  Use BeautifulSoup to read html\n",
    "soup = BeautifulSoup(response.text, 'html.parser')\n",
    "dowtable=soup.find('table',{'class':\"wikitable\"})\n",
    "wiki=pd.read_html(str(dowtable))\n",
    "\n",
    "# Convert List to Dataframe and adapt data to fit the analysis needs\n",
    "dj=pd.DataFrame(wiki[0])\n",
    "dj['Weight'] = dj['Index weighting'].str.rstrip(\"%\").astype(float)/100\n",
    "dj['Rank'] = dj['Weight'].rank(ascending=False)\n",
    "dj.sort_values(by=['Weight'])\n",
    "dj_rank=dj.sort_values(by=['Rank'])\n",
    "dj_rank = dj_rank.reset_index(drop=True)\n",
    "dj_rank['Date']=dj_rank['Date added'].str[:4]+'-'+dj_rank['Date added'].str[5:7]+'-01'\n",
    "dj_rank['Date']=pd.to_datetime(dj_rank['Date'])\n",
    "symb_list = dj_rank.Symbol.values.tolist()\n",
    "dj_rank.head(2)"
   ]
  },
  {
   "cell_type": "markdown",
   "id": "3c37b84d-7475-493d-9abb-01c51e868bdb",
   "metadata": {},
   "source": [
    "##### 1.5.2 Stock Time Series - Data Import Function"
   ]
  },
  {
   "cell_type": "code",
   "execution_count": 4,
   "id": "4ff349ae-ff81-4541-a99a-41ee2e79575e",
   "metadata": {},
   "outputs": [
    {
     "data": {
      "text/html": [
       "<div>\n",
       "<style scoped>\n",
       "    .dataframe tbody tr th:only-of-type {\n",
       "        vertical-align: middle;\n",
       "    }\n",
       "\n",
       "    .dataframe tbody tr th {\n",
       "        vertical-align: top;\n",
       "    }\n",
       "\n",
       "    .dataframe thead th {\n",
       "        text-align: right;\n",
       "    }\n",
       "</style>\n",
       "<table border=\"1\" class=\"dataframe\">\n",
       "  <thead>\n",
       "    <tr style=\"text-align: right;\">\n",
       "      <th></th>\n",
       "      <th>1. open</th>\n",
       "      <th>2. high</th>\n",
       "      <th>3. low</th>\n",
       "      <th>4. close</th>\n",
       "      <th>5. volume</th>\n",
       "      <th>Symbol</th>\n",
       "      <th>Date</th>\n",
       "    </tr>\n",
       "  </thead>\n",
       "  <tbody>\n",
       "    <tr>\n",
       "      <th>0</th>\n",
       "      <td>43.9000</td>\n",
       "      <td>43.9900</td>\n",
       "      <td>42.7900</td>\n",
       "      <td>43.2600</td>\n",
       "      <td>4689993</td>\n",
       "      <td>WBA</td>\n",
       "      <td>2022-06-01</td>\n",
       "    </tr>\n",
       "    <tr>\n",
       "      <th>1</th>\n",
       "      <td>42.6300</td>\n",
       "      <td>45.2950</td>\n",
       "      <td>39.7150</td>\n",
       "      <td>43.8300</td>\n",
       "      <td>158871965</td>\n",
       "      <td>WBA</td>\n",
       "      <td>2022-05-01</td>\n",
       "    </tr>\n",
       "  </tbody>\n",
       "</table>\n",
       "</div>"
      ],
      "text/plain": [
       "   1. open  2. high   3. low 4. close  5. volume Symbol       Date\n",
       "0  43.9000  43.9900  42.7900  43.2600    4689993    WBA 2022-06-01\n",
       "1  42.6300  45.2950  39.7150  43.8300  158871965    WBA 2022-05-01"
      ]
     },
     "execution_count": 4,
     "metadata": {},
     "output_type": "execute_result"
    }
   ],
   "source": [
    "# Create df for lowest weighted DJIA stock\n",
    "ts_rank30=df_rank(29)\n",
    "ts_rank30.head(2)"
   ]
  },
  {
   "cell_type": "code",
   "execution_count": 5,
   "id": "b44233c6-555a-493f-bbde-7e8ee675fe72",
   "metadata": {},
   "outputs": [
    {
     "data": {
      "text/html": [
       "<div>\n",
       "<style scoped>\n",
       "    .dataframe tbody tr th:only-of-type {\n",
       "        vertical-align: middle;\n",
       "    }\n",
       "\n",
       "    .dataframe tbody tr th {\n",
       "        vertical-align: top;\n",
       "    }\n",
       "\n",
       "    .dataframe thead th {\n",
       "        text-align: right;\n",
       "    }\n",
       "</style>\n",
       "<table border=\"1\" class=\"dataframe\">\n",
       "  <thead>\n",
       "    <tr style=\"text-align: right;\">\n",
       "      <th></th>\n",
       "      <th>Open</th>\n",
       "      <th>High</th>\n",
       "      <th>Low</th>\n",
       "      <th>Close</th>\n",
       "      <th>Volume</th>\n",
       "      <th>Symbol</th>\n",
       "      <th>Date</th>\n",
       "    </tr>\n",
       "  </thead>\n",
       "  <tbody>\n",
       "    <tr>\n",
       "      <th>0</th>\n",
       "      <td>332.4100</td>\n",
       "      <td>332.9500</td>\n",
       "      <td>326.1000</td>\n",
       "      <td>328.3600</td>\n",
       "      <td>3715609</td>\n",
       "      <td>DIA</td>\n",
       "      <td>2022-06-01</td>\n",
       "    </tr>\n",
       "    <tr>\n",
       "      <th>1</th>\n",
       "      <td>330.3500</td>\n",
       "      <td>341.1700</td>\n",
       "      <td>306.2800</td>\n",
       "      <td>330.2000</td>\n",
       "      <td>125388059</td>\n",
       "      <td>DIA</td>\n",
       "      <td>2022-05-01</td>\n",
       "    </tr>\n",
       "  </tbody>\n",
       "</table>\n",
       "</div>"
      ],
      "text/plain": [
       "       Open      High       Low     Close     Volume Symbol       Date\n",
       "0  332.4100  332.9500  326.1000  328.3600    3715609    DIA 2022-06-01\n",
       "1  330.3500  341.1700  306.2800  330.2000  125388059    DIA 2022-05-01"
      ]
     },
     "execution_count": 5,
     "metadata": {},
     "output_type": "execute_result"
    }
   ],
   "source": [
    "# Create df for DIA (DJIA index fund)\n",
    "ts_dia=df_symbol('DIA')\n",
    "ts_dia.head(2)"
   ]
  },
  {
   "cell_type": "code",
   "execution_count": 11,
   "id": "be7a8998-6767-4db7-93ca-e7b4d306ce21",
   "metadata": {},
   "outputs": [
    {
     "data": {
      "text/html": [
       "<div>\n",
       "<style scoped>\n",
       "    .dataframe tbody tr th:only-of-type {\n",
       "        vertical-align: middle;\n",
       "    }\n",
       "\n",
       "    .dataframe tbody tr th {\n",
       "        vertical-align: top;\n",
       "    }\n",
       "\n",
       "    .dataframe thead th {\n",
       "        text-align: right;\n",
       "    }\n",
       "</style>\n",
       "<table border=\"1\" class=\"dataframe\">\n",
       "  <thead>\n",
       "    <tr style=\"text-align: right;\">\n",
       "      <th></th>\n",
       "      <th>1. open</th>\n",
       "      <th>2. high</th>\n",
       "      <th>3. low</th>\n",
       "      <th>4. close</th>\n",
       "      <th>5. volume</th>\n",
       "      <th>Symbol</th>\n",
       "      <th>Date</th>\n",
       "    </tr>\n",
       "  </thead>\n",
       "  <tbody>\n",
       "    <tr>\n",
       "      <th>0</th>\n",
       "      <td>498.3200</td>\n",
       "      <td>501.3800</td>\n",
       "      <td>487.7800</td>\n",
       "      <td>492.5500</td>\n",
       "      <td>1765587</td>\n",
       "      <td>UNH</td>\n",
       "      <td>2022-06-01</td>\n",
       "    </tr>\n",
       "    <tr>\n",
       "      <th>1</th>\n",
       "      <td>510.8100</td>\n",
       "      <td>513.5100</td>\n",
       "      <td>463.3300</td>\n",
       "      <td>496.7800</td>\n",
       "      <td>67952080</td>\n",
       "      <td>UNH</td>\n",
       "      <td>2022-05-01</td>\n",
       "    </tr>\n",
       "  </tbody>\n",
       "</table>\n",
       "</div>"
      ],
      "text/plain": [
       "    1. open   2. high    3. low  4. close 5. volume Symbol       Date\n",
       "0  498.3200  501.3800  487.7800  492.5500   1765587    UNH 2022-06-01\n",
       "1  510.8100  513.5100  463.3300  496.7800  67952080    UNH 2022-05-01"
      ]
     },
     "execution_count": 11,
     "metadata": {},
     "output_type": "execute_result"
    }
   ],
   "source": [
    "# Create df for heighest weighted DJIA stock\n",
    "ts_rank1=df_rank(0)\n",
    "ts_rank1.head(2)"
   ]
  },
  {
   "cell_type": "code",
   "execution_count": 12,
   "id": "ff107ca8-f1de-45b3-b4ff-fb755df96990",
   "metadata": {},
   "outputs": [],
   "source": [
    "#Create dataframes from OECD stats (csv)\n",
    "bci=r\"C:\\Users\\eduar\\OneDrive\\Documents\\Master of Analytics\\Intro to Analytics\\Assignment 3_4\\BCI_US.csv\";\n",
    "ts_bci=df_oecd(bci)\n",
    "\n",
    "emp=r\"C:\\Users\\eduar\\OneDrive\\Documents\\Master of Analytics\\Intro to Analytics\\Assignment 3_4\\EMP_US.csv\";\n",
    "ts_emp=df_oecd(emp)"
   ]
  },
  {
   "cell_type": "code",
   "execution_count": 13,
   "id": "5b8f09ec-bd8f-4b3e-b9bb-76062ccec741",
   "metadata": {},
   "outputs": [],
   "source": [
    "#Merge all dataframes created using Date as join key\n",
    "\n",
    "dfs = [ts_bci, ts_emp, ts_dia, ts_rank1, ts_rank30]\n",
    "final_df = reduce(lambda  left,right: pd.merge(left,right,on=['Date'],how='inner'), dfs)"
   ]
  },
  {
   "cell_type": "code",
   "execution_count": 15,
   "id": "7703bfb8-a65d-4386-ba32-73b0680b4608",
   "metadata": {},
   "outputs": [
    {
     "data": {
      "text/html": [
       "<div>\n",
       "<style scoped>\n",
       "    .dataframe tbody tr th:only-of-type {\n",
       "        vertical-align: middle;\n",
       "    }\n",
       "\n",
       "    .dataframe tbody tr th {\n",
       "        vertical-align: top;\n",
       "    }\n",
       "\n",
       "    .dataframe thead th {\n",
       "        text-align: right;\n",
       "    }\n",
       "</style>\n",
       "<table border=\"1\" class=\"dataframe\">\n",
       "  <thead>\n",
       "    <tr style=\"text-align: right;\">\n",
       "      <th></th>\n",
       "      <th>Date</th>\n",
       "      <th>BCI</th>\n",
       "      <th>EMP</th>\n",
       "      <th>DIA_Open</th>\n",
       "      <th>DIA_High</th>\n",
       "      <th>DIA_Low</th>\n",
       "      <th>DIA_Close</th>\n",
       "      <th>DIA_Volume</th>\n",
       "      <th>First_Open</th>\n",
       "      <th>First_High</th>\n",
       "      <th>First_Low</th>\n",
       "      <th>First_Close</th>\n",
       "      <th>First_Volume</th>\n",
       "      <th>Last_Open</th>\n",
       "      <th>Last_Close</th>\n",
       "      <th>Last_Vol</th>\n",
       "      <th>Year</th>\n",
       "    </tr>\n",
       "  </thead>\n",
       "  <tbody>\n",
       "    <tr>\n",
       "      <th>0</th>\n",
       "      <td>2008-01-01</td>\n",
       "      <td>99.08396</td>\n",
       "      <td>71.67984</td>\n",
       "      <td>132.47</td>\n",
       "      <td>132.67</td>\n",
       "      <td>115.80</td>\n",
       "      <td>126.00</td>\n",
       "      <td>473724100.0</td>\n",
       "      <td>57.19</td>\n",
       "      <td>57.8600</td>\n",
       "      <td>48.1200</td>\n",
       "      <td>50.84</td>\n",
       "      <td>191989500.0</td>\n",
       "      <td>37.99</td>\n",
       "      <td>35.04</td>\n",
       "      <td>201483400.0</td>\n",
       "      <td>2008</td>\n",
       "    </tr>\n",
       "    <tr>\n",
       "      <th>1</th>\n",
       "      <td>2008-02-01</td>\n",
       "      <td>98.98666</td>\n",
       "      <td>71.43710</td>\n",
       "      <td>126.49</td>\n",
       "      <td>127.61</td>\n",
       "      <td>120.76</td>\n",
       "      <td>123.01</td>\n",
       "      <td>279035500.0</td>\n",
       "      <td>50.36</td>\n",
       "      <td>51.0300</td>\n",
       "      <td>44.0000</td>\n",
       "      <td>46.48</td>\n",
       "      <td>156703700.0</td>\n",
       "      <td>34.95</td>\n",
       "      <td>36.51</td>\n",
       "      <td>120248100.0</td>\n",
       "      <td>2008</td>\n",
       "    </tr>\n",
       "  </tbody>\n",
       "</table>\n",
       "</div>"
      ],
      "text/plain": [
       "        Date       BCI       EMP  DIA_Open  DIA_High  DIA_Low  DIA_Close  \\\n",
       "0 2008-01-01  99.08396  71.67984    132.47    132.67   115.80     126.00   \n",
       "1 2008-02-01  98.98666  71.43710    126.49    127.61   120.76     123.01   \n",
       "\n",
       "    DIA_Volume  First_Open First_High First_Low  First_Close  First_Volume  \\\n",
       "0  473724100.0       57.19    57.8600   48.1200        50.84   191989500.0   \n",
       "1  279035500.0       50.36    51.0300   44.0000        46.48   156703700.0   \n",
       "\n",
       "   Last_Open  Last_Close     Last_Vol  Year  \n",
       "0      37.99       35.04  201483400.0  2008  \n",
       "1      34.95       36.51  120248100.0  2008  "
      ]
     },
     "execution_count": 15,
     "metadata": {},
     "output_type": "execute_result"
    }
   ],
   "source": [
    "#Select relevant columns for analysis, creating a complete dataset with all information used on this analysis\n",
    "\n",
    "final_df=final_df[['Date','Value_x','Value_y','Open','High','Low','Close','Volume','1. open_x','2. high_x','3. low_x','4. close_x','5. volume_x','1. open_y','4. close_y','5. volume_y']]\n",
    "final_df.columns=['Date','BCI','EMP','DIA_Open','DIA_High','DIA_Low','DIA_Close','DIA_Volume','First_Open','First_High','First_Low','First_Close','First_Volume','Last_Open','Last_Close','Last_Vol']\n",
    "final_df['Year']=pd.DatetimeIndex(final_df['Date']).year\n",
    "\n",
    "\n",
    "#Convert all columns to float\n",
    "cols = ['DIA_Open','DIA_High','DIA_Low','DIA_Close','DIA_Volume','First_Open','First_Close','First_Volume','Last_Open','Last_Close','Last_Vol']\n",
    "final_df[cols] = final_df[cols].apply(pd.to_numeric, errors='coerce', axis=1)\n",
    "final_df.head(2)"
   ]
  },
  {
   "cell_type": "markdown",
   "id": "8acbb035-b3a1-4f49-aa78-c935a8a64879",
   "metadata": {},
   "source": [
    "##### Variables Index\n",
    "BCI - Business Confidence Index<br>\n",
    "EMP - Employment Rate<br>\n",
    "DIA - SPDR Dow Jones Industrial Average ETF Trust<br>\n",
    "First - Heighest Ranked DJIA Stock based on Weight<br>\n",
    "Last - Lowest Ranked DJIA Stock based on Weight<br><br>\n",
    "\n",
    "Open - Stock Price Start of the month<br>\n",
    "High - Highest Stock Price during the month<br>\n",
    "Low - Lowest Stock Price during the month<br>\n",
    "Close - Stock Price End of the month<br>\n",
    "Volume - Volume traded during the month"
   ]
  },
  {
   "cell_type": "markdown",
   "id": "125c4cd8-844a-4631-922b-9518d6154ede",
   "metadata": {},
   "source": [
    "#### 1.6 Data Cleaning/ Manipulation"
   ]
  },
  {
   "cell_type": "markdown",
   "id": "e0ab3ddd-eebd-4f44-b7e9-77aebbcd937e",
   "metadata": {},
   "source": [
    "#### 1.6.1 Identify Outliers"
   ]
  },
  {
   "cell_type": "code",
   "execution_count": 16,
   "id": "7a5d1e46-a46f-4ac4-b62b-07d021d7422e",
   "metadata": {},
   "outputs": [
    {
     "data": {
      "image/png": "[encoded data removed]",
      "text/plain": [
       "<Figure size 432x288 with 1 Axes>"
      ]
     },
     "metadata": {
      "needs_background": "light"
     },
     "output_type": "display_data"
    }
   ],
   "source": [
    "boxplot = final_df.boxplot(column=[ 'DIA_Close','First_Close','Last_Close'])\n",
    "plt.title(\"Stock Market Info Distribution\");"
   ]
  },
  {
   "cell_type": "markdown",
   "id": "41711a30-a320-4e33-9d04-54347de56b2a",
   "metadata": {},
   "source": [
    "##### Even though there are high variances between minimums and maximums, especially when observing the 'First_Close' variable, there is no indication that this needs to be treated as data errors."
   ]
  },
  {
   "cell_type": "code",
   "execution_count": 17,
   "id": "48e66104-ac56-4cba-aa16-5b14488fea88",
   "metadata": {},
   "outputs": [
    {
     "data": {
      "image/png": "[encoded data removed]",
      "text/plain": [
       "<Figure size 432x288 with 1 Axes>"
      ]
     },
     "metadata": {
      "needs_background": "light"
     },
     "output_type": "display_data"
    }
   ],
   "source": [
    "ax=final_df.boxplot(column=['BCI'])\n"
   ]
  },
  {
   "cell_type": "code",
   "execution_count": 18,
   "id": "2a7bdd6e-68dc-4802-a478-061473cc5eb2",
   "metadata": {},
   "outputs": [
    {
     "data": {
      "image/png": "[encoded data removed]",
      "text/plain": [
       "<Figure size 432x288 with 1 Axes>"
      ]
     },
     "metadata": {
      "needs_background": "light"
     },
     "output_type": "display_data"
    }
   ],
   "source": [
    "ax2=final_df.boxplot(column=['EMP']) "
   ]
  },
  {
   "cell_type": "markdown",
   "id": "4959e267-e52e-4b6a-871f-c076ac64b713",
   "metadata": {},
   "source": [
    "empout=final_df[final_df['EMP']<64]\n",
    "empout"
   ]
  },
  {
   "cell_type": "markdown",
   "id": "2e1867f1-0cfd-48c6-bcf4-3d1bb26f5d94",
   "metadata": {},
   "source": [
    "##### The two Employment Rates outliers identified above are right after the start of the Covid-19 Pandemic, so these are expected values and will not be excluded from the dataset."
   ]
  },
  {
   "cell_type": "markdown",
   "id": "19752c91-5d24-4f53-8c5a-22aad48c5238",
   "metadata": {},
   "source": [
    "#### 1.6.2 Identify Null Values"
   ]
  },
  {
   "cell_type": "markdown",
   "id": "fb2dee60-ea92-4339-a28e-fef2cde2361e",
   "metadata": {},
   "source": [
    "#### Count amount of null values in the dataframe to identify potential data errors"
   ]
  },
  {
   "cell_type": "code",
   "execution_count": 19,
   "id": "2e1e3de7-b109-41a5-861f-dfa6818408d7",
   "metadata": {},
   "outputs": [
    {
     "data": {
      "text/plain": [
       "0"
      ]
     },
     "execution_count": 19,
     "metadata": {},
     "output_type": "execute_result"
    }
   ],
   "source": [
    "final_df.isnull().sum().sum()"
   ]
  },
  {
   "cell_type": "markdown",
   "id": "6c4527c3-7c3a-4ef3-b159-a20c0ecef9b1",
   "metadata": {
    "tags": []
   },
   "source": [
    "There are no null values in the dataframe that require attention or manipulation.<br>\n",
    "The datasets used in this analysis are of common use and probably are cleaned and manipulated before publishment."
   ]
  },
  {
   "cell_type": "markdown",
   "id": "178c0854-d1d7-4c91-afe6-5c5beb8616c6",
   "metadata": {},
   "source": [
    "#### 1.6.3 Data Cleaning and Manipulation (function embeded)\n",
    "\n",
    " The functions created to import datasets are including the steps necessary to adapt the dataset to this analysis needs. \n",
    "- Add first day of the month to all dates to standardize the datasets and enable the join to work correctly.\n",
    "- Extract 4 left characters of Date to identify Year and mid 5-7 characters to identify month, then convert it to date."
   ]
  },
  {
   "cell_type": "markdown",
   "id": "d605c94d-cfb4-4eee-9335-fda3787baedf",
   "metadata": {},
   "source": [
    "### 2. Data Visualization"
   ]
  },
  {
   "cell_type": "code",
   "execution_count": 20,
   "id": "79aabdb2-9e2d-43c4-a014-9540bd635c35",
   "metadata": {},
   "outputs": [
    {
     "data": {
      "image/png": "[encoded data removed]",
      "text/plain": [
       "<Figure size 720x360 with 2 Axes>"
      ]
     },
     "metadata": {
      "needs_background": "light"
     },
     "output_type": "display_data"
    }
   ],
   "source": [
    "fig,ax = plt.subplots()\n",
    "\n",
    "plt.subplots_adjust(top=0.9)\n",
    "plt.suptitle('Business Confidence vs Employment Rates', fontsize = 16)\n",
    "\n",
    "fig.set_size_inches(10,5, forward=True)\n",
    "# make a plot\n",
    "ax.plot(final_df['Date'], final_df['EMP'], \"-b\", label=\"Employment Rate\")\n",
    "# set x-axis label\n",
    "ax.set_xlabel(\"Year\",fontsize=14)\n",
    "# twin object for two different y-axis on the sample plot\n",
    "ax2=ax.twinx()\n",
    "# make a plot with different y-axis using second axis object\n",
    "ax2.plot(final_df['Date'], final_df['BCI'], \"-r\", label=\"Business Confidence Index\")\n",
    "\n",
    "ax.legend(loc=\"upper left\")\n",
    "ax2.legend(loc=\"lower right\");\n"
   ]
  },
  {
   "cell_type": "markdown",
   "id": "efcbe8c9-cbb3-48de-a619-50b9c01f7bc7",
   "metadata": {
    "tags": []
   },
   "source": [
    "#### First we are exploring the movements in Business Confidence Level and the Employment Rates\n",
    "##### It is possible to see that in 2009 there was a quick drop in BCI followed by a decrease in Employment rates, and the same happening in 2020, with major changes in both BCI and Employment Rates at the same time."
   ]
  },
  {
   "cell_type": "code",
   "execution_count": 21,
   "id": "4ee0adb1-1154-425c-a3f8-f16e3a205551",
   "metadata": {},
   "outputs": [
    {
     "data": {
      "image/png": "[encoded data removed]",
      "text/plain": [
       "<Figure size 720x360 with 1 Axes>"
      ]
     },
     "metadata": {},
     "output_type": "display_data"
    }
   ],
   "source": [
    "sns.set(rc={'figure.figsize':(10,5)})\n",
    "sns.set_style(\"white\")\n",
    "\n",
    "dia_med = final_df.groupby('Year').median()\n",
    "dia_med['Year']=dia_med.index\n",
    "dia_med=dia_med.reset_index(drop=True)\n",
    "dia_med.head()\n",
    "\n",
    "ax1 = sns.barplot(x=\"Year\", y=\"DIA_Volume\", data=dia_med,color=\"gray\").set(title='Median Volume by Year - DIA ETF')"
   ]
  },
  {
   "cell_type": "markdown",
   "id": "c95dd8e5-1aec-4877-bffe-7106fe106b76",
   "metadata": {
    "tags": []
   },
   "source": [
    "#### After 2008, DIA median volume traded decreased year after year, but has been showing a slight increase after 2019."
   ]
  },
  {
   "cell_type": "code",
   "execution_count": 47,
   "id": "81a4c4cf-4673-4077-aff7-02fce51f1dcd",
   "metadata": {},
   "outputs": [
    {
     "data": {
      "image/png": "[encoded data removed]",
      "text/plain": [
       "<Figure size 720x360 with 2 Axes>"
      ]
     },
     "metadata": {},
     "output_type": "display_data"
    },
    {
     "data": {
      "image/png": "[encoded data removed]",
      "text/plain": [
       "<Figure size 720x360 with 2 Axes>"
      ]
     },
     "metadata": {},
     "output_type": "display_data"
    }
   ],
   "source": [
    "first=symb_list[0]\n",
    "fig, ax1 = plt.subplots()\n",
    "ax2 = ax1.twinx()\n",
    "ax1.plot(final_df['Date'], final_df['First_Close'], color=\"r\", label=\"First_Close\")\n",
    "ax2.plot(final_df['Date'], final_df['DIA_Close'], label=\"DIA_Close\")\n",
    "plt.title('First Ranked DJIA')\n",
    "plt.xlabel('Year')\n",
    "plt.ylabel(first+' Stock Price')\n",
    "ax1.legend(loc=\"upper left\")\n",
    "ax2.legend(loc=\"lower right\");\n",
    "\n",
    "\n",
    "plt.show()\n",
    "\n",
    "\n",
    "fig, ax1 = plt.subplots()\n",
    "last=symb_list[29]\n",
    "ax2 = ax1.twinx()\n",
    "ax1.plot(final_df['Date'], final_df['Last_Close'], color=\"r\", label=\"Last_Close\")\n",
    "ax2.plot(final_df['Date'], final_df['DIA_Close'], label=\"DIA_Close\")\n",
    "plt.title('Last Ranked DJIA')\n",
    "plt.xlabel('Year')\n",
    "plt.ylabel(last+' Stock Price')\n",
    "ax1.legend(loc=\"upper left\")\n",
    "ax2.legend(loc=\"lower right\");\n",
    "plt.show()"
   ]
  },
  {
   "cell_type": "markdown",
   "id": "f8ee8bce-d705-467d-afb6-5da713c87e5e",
   "metadata": {},
   "source": [
    "Above we can observe that DIA and the Highest Ranked Stock in DJIA (UNH as at 31st May 2022) have similar movements overtime, while DIA and the Lowest Ranked Stock (WBA) had a high correlation between 2008 and 2013 but after this the variances increased and the correlation is lower than before."
   ]
  },
  {
   "cell_type": "code",
   "execution_count": 23,
   "id": "ef9d220e-e7cd-421b-a9a2-bce4aab35dcf",
   "metadata": {},
   "outputs": [
    {
     "data": {
      "image/png": "[encoded data removed]",
      "text/plain": [
       "<Figure size 864x288 with 2 Axes>"
      ]
     },
     "metadata": {},
     "output_type": "display_data"
    }
   ],
   "source": [
    "corr_df=final_df[['BCI','EMP','DIA_Close','DIA_Volume','First_Close','Last_Close']]\n",
    "corr_df.corr()\n",
    "plt.figure(figsize=(12, 4))\n",
    "sns.heatmap(corr_df.corr(), vmin=-1, vmax=1, annot=True)\n",
    "plt.title(\"Indicators Correlation Matrix Heatmap\",fontsize=20);"
   ]
  },
  {
   "cell_type": "markdown",
   "id": "e2836038-19c2-467e-b3e6-c3e219c61858",
   "metadata": {},
   "source": [
    "Considering that UNH and WBA are part of the index that compound DIA, we shouldn't consider their high correlation with DIA identified for our analysis.<br>\n",
    "Therefore, we should only focus on the correlation between BCI/EMP vs DIA, First Ranked (UNH) and Last Ranked (WBA) information."
   ]
  },
  {
   "cell_type": "code",
   "execution_count": 24,
   "id": "2b67e084-7162-4d06-887f-6c12af2ddea0",
   "metadata": {},
   "outputs": [
    {
     "data": {
      "image/png": "[encoded data removed]",
      "text/plain": [
       "<Figure size 432x432 with 3 Axes>"
      ]
     },
     "metadata": {},
     "output_type": "display_data"
    }
   ],
   "source": [
    "corr_plot('BCI','First_Close')"
   ]
  },
  {
   "cell_type": "code",
   "execution_count": 25,
   "id": "c3975449-9283-4723-8396-a378977d04b4",
   "metadata": {},
   "outputs": [
    {
     "data": {
      "image/png": "[encoded data removed]",
      "text/plain": [
       "<Figure size 432x432 with 3 Axes>"
      ]
     },
     "metadata": {},
     "output_type": "display_data"
    }
   ],
   "source": [
    "corr_plot('EMP','First_Close')"
   ]
  },
  {
   "cell_type": "markdown",
   "id": "6b6f2a56-2797-4302-b885-6e91b12f405d",
   "metadata": {},
   "source": [
    "BCI and EMP have moderate positive correlation with First_Close and DIA_Close when analysing the entire period with data available for all instances (2008 - 2022)<br>\n",
    "\n",
    "Is the long-term moderate correlation identified in the short-term as well?"
   ]
  },
  {
   "cell_type": "markdown",
   "id": "95d0bd4a-bc04-4382-981c-badedbc2ff6e",
   "metadata": {},
   "source": [
    "#### Create Short-Term and Medium-Term Dataframe"
   ]
  },
  {
   "cell_type": "code",
   "execution_count": 26,
   "id": "432356b5-f31a-46d9-a127-a6c74b51e2bd",
   "metadata": {},
   "outputs": [],
   "source": [
    "one_year =  pd.to_datetime(date.today() + relativedelta(years=-1))\n",
    "five_years =  pd.to_datetime(date.today() + relativedelta(years=-5))\n",
    "df_short=final_df[final_df['Date']>one_year]\n",
    "df_medium=final_df[final_df['Date']>five_years]"
   ]
  },
  {
   "cell_type": "code",
   "execution_count": 27,
   "id": "51f02129-f3c0-4e46-b812-0fb6a48ebf6e",
   "metadata": {},
   "outputs": [
    {
     "name": "stdout",
     "output_type": "stream",
     "text": [
      "LT: 0.43 MT: 0.33 ST: -0.75\n"
     ]
    }
   ],
   "source": [
    "correl_index('BCI','First_Close')"
   ]
  },
  {
   "cell_type": "markdown",
   "id": "b691d810-9ba3-470f-ba2d-58bcd707cfc2",
   "metadata": {},
   "source": [
    "We can see that there is a high variance when we compare the Long Term/ Med Term vs Short Term correlation between BCI and First_Close.<br>\n",
    "There is a 0.43 pearsonr on the Long-term, while the correlation is -0.75 in the short-term."
   ]
  },
  {
   "cell_type": "code",
   "execution_count": 28,
   "id": "97c5de0f-0499-4290-9cb0-eb5e6b22fe41",
   "metadata": {
    "tags": []
   },
   "outputs": [
    {
     "name": "stdout",
     "output_type": "stream",
     "text": [
      "The long-term slope is: 1.47\n",
      "The short-term slope is: -1.47\n"
     ]
    }
   ],
   "source": [
    "a=final_df['BCI']\n",
    "b=final_df['Year']\n",
    "c=df_short['BCI']\n",
    "d=df_short['Year']\n",
    "\n",
    "lp_slope=linregress(a, b)[0]\n",
    "st_slope=linregress(c, d)[0]\n",
    "\n",
    "print(\"The long-term slope is: \"+str(round(lp_slope,2)))\n",
    "print(\"The short-term slope is: \"+str(round(st_slope,2)))"
   ]
  },
  {
   "cell_type": "markdown",
   "id": "093471a3-87df-4a44-8f9b-156ca6aac90d",
   "metadata": {},
   "source": [
    "Above we can see that there is a complete opposite direction and intensity of the short-term slope compared to the long-term slope"
   ]
  },
  {
   "cell_type": "code",
   "execution_count": 29,
   "id": "e1e7fcc8-91ef-42af-bfaa-317da7800178",
   "metadata": {},
   "outputs": [
    {
     "data": {
      "image/png": "[encoded data removed]",
      "text/plain": [
       "<Figure size 720x360 with 1 Axes>"
      ]
     },
     "metadata": {},
     "output_type": "display_data"
    }
   ],
   "source": [
    "ax = sns.scatterplot(x=\"Date\", y=\"BCI\", data=final_df).set(title='BCI Movement Long Term')\n"
   ]
  },
  {
   "cell_type": "code",
   "execution_count": 40,
   "id": "a714713b-39e2-4c53-8c13-4f85368463ad",
   "metadata": {
    "tags": []
   },
   "outputs": [
    {
     "data": {
      "image/png": "[encoded data removed]",
      "text/plain": [
       "<Figure size 360x360 with 1 Axes>"
      ]
     },
     "metadata": {},
     "output_type": "display_data"
    }
   ],
   "source": [
    "sns.lmplot(x=\"Year\",\n",
    "           y=\"BCI\", \n",
    "           data=final_df).set(title='BCI Year on Year - Trendline');\n",
    "plt.show()"
   ]
  },
  {
   "cell_type": "code",
   "execution_count": 31,
   "id": "88fa7a75-810e-49e7-a461-2dca1b1f9e7c",
   "metadata": {},
   "outputs": [
    {
     "data": {
      "image/png": "[encoded data removed]",
      "text/plain": [
       "<Figure size 720x360 with 1 Axes>"
      ]
     },
     "metadata": {},
     "output_type": "display_data"
    }
   ],
   "source": [
    "ax = sns.scatterplot(x=\"Date\", y=\"First_Close\", data=final_df).set(title='UNH Movement Long Term')\n"
   ]
  },
  {
   "cell_type": "code",
   "execution_count": 32,
   "id": "da142583-e084-4928-80dd-a60d8d123550",
   "metadata": {},
   "outputs": [
    {
     "data": {
      "image/png": "[encoded data removed]",
      "text/plain": [
       "<Figure size 720x360 with 1 Axes>"
      ]
     },
     "metadata": {},
     "output_type": "display_data"
    }
   ],
   "source": [
    "ax = sns.lineplot(x=\"Date\", y=\"First_Close\", data=df_short).set(title='UNH Movement Short Term')"
   ]
  },
  {
   "cell_type": "code",
   "execution_count": 33,
   "id": "c52467fa-76e3-49b5-9b92-93b640df2c65",
   "metadata": {},
   "outputs": [
    {
     "name": "stdout",
     "output_type": "stream",
     "text": [
      "The long-term slope is: 0.03\n",
      "The short-term slope is: 0.01\n"
     ]
    }
   ],
   "source": [
    "a=final_df['First_Close']\n",
    "b=final_df['Year']\n",
    "c=df_short['First_Close']\n",
    "d=df_short['Year']\n",
    "\n",
    "lp_slope=linregress(a, b)[0]\n",
    "st_slope=linregress(c, d)[0]\n",
    "print(\"The long-term slope is: \"+str(round(lp_slope,2)))\n",
    "print(\"The short-term slope is: \"+str(round(st_slope,2)))"
   ]
  },
  {
   "cell_type": "code",
   "execution_count": 34,
   "id": "96a93ebb-1182-4ca6-a104-c3427988664a",
   "metadata": {},
   "outputs": [
    {
     "data": {
      "image/png": "[encoded data removed]",
      "text/plain": [
       "<Figure size 360x360 with 1 Axes>"
      ]
     },
     "metadata": {},
     "output_type": "display_data"
    }
   ],
   "source": [
    "reg=sns.lmplot(x=\"Year\",\n",
    "           y=\"First_Close\", \n",
    "           data=final_df).set(title='UNH Yearly Observations - Trendline');\n"
   ]
  },
  {
   "cell_type": "code",
   "execution_count": 35,
   "id": "f33d8e96-f788-42c8-99c1-641eeec3bd95",
   "metadata": {},
   "outputs": [
    {
     "name": "stdout",
     "output_type": "stream",
     "text": [
      "LT: 0.39 MT: -0.14 ST: 0.88\n"
     ]
    }
   ],
   "source": [
    "correl_index('EMP','First_Close')"
   ]
  },
  {
   "cell_type": "code",
   "execution_count": 36,
   "id": "63316edc-d3bd-401e-84e3-33ebfb7acd1e",
   "metadata": {},
   "outputs": [
    {
     "name": "stdout",
     "output_type": "stream",
     "text": [
      "The long-term slope is: 0.75\n",
      "The short-term slope is: 0.62\n"
     ]
    }
   ],
   "source": [
    "a=final_df['EMP']\n",
    "b=final_df['Year']\n",
    "c=df_short['EMP']\n",
    "d=df_short['Year']\n",
    "\n",
    "lp_slope=linregress(a, b)[0]\n",
    "st_slope=linregress(c, d)[0]\n",
    "print(\"The long-term slope is: \"+str(round(lp_slope,2)))\n",
    "print(\"The short-term slope is: \"+str(round(st_slope,2)))"
   ]
  },
  {
   "cell_type": "markdown",
   "id": "9d475c4e-d720-4bd7-ba0f-acc10c251b72",
   "metadata": {},
   "source": [
    "The hypothesis of a short-term correlation tending to an adjustment to the long-term correlation can be used as an investment strategy when we analyse independent variables, such as the Business Confidence Index and an important stock such as the heighest weighted DJIA stock."
   ]
  },
  {
   "cell_type": "markdown",
   "id": "ca3b6df1-4ae3-4d27-95d3-30449962a935",
   "metadata": {},
   "source": [
    "Above, running the correlation between Economic Indicators and Stock movement for two types of periods (Long Term and Short Term) we tested if there were high variances between the two correlations found.<br>\n",
    "<br> This is only an indication that we can potentially explore these variances between long vs short term correlation to trigger an investment.<br><br>\n",
    "The idea is, if we identify that the short-term correlation between a stock and an economic indicator is highly different than the same pair when analysed in the long term, we have the potential of a profitable investment considering that the correlation will tend to its long term pattern."
   ]
  },
  {
   "cell_type": "markdown",
   "id": "c2ca101a-c88d-4dc8-995d-27b131e90233",
   "metadata": {},
   "source": [
    "### Testing Hypothesis - One Year"
   ]
  },
  {
   "cell_type": "code",
   "execution_count": 48,
   "id": "499f84c7-5b7f-4481-b997-500dd92466ed",
   "metadata": {},
   "outputs": [
    {
     "name": "stdout",
     "output_type": "stream",
     "text": [
      "While there is a 0.5 correlation between BCI and UNH in the long-term analysis, there is a -0.61 correlation when we observe the short-term.\n"
     ]
    }
   ],
   "source": [
    "year=2011\n",
    "\n",
    "#Create long-term dataframe from start to selected year\n",
    "lt=final_df[final_df['Year']<=year]\n",
    "\n",
    "#Create short-term dataframe for the selected year\n",
    "st=final_df[final_df['Year']==year]\n",
    "\n",
    "#Create dataframe for after the selected year\n",
    "aft=final_df[final_df['Year']>year]\n",
    "\n",
    "#Calculate stats for long-term, short-term and period after selected year\n",
    "statlt=linregress(lt['BCI'], lt['First_Close'])[2]\n",
    "statst=linregress(st['BCI'], st['First_Close'])[2]\n",
    "stataft=linregress(aft['BCI'], aft['First_Close'])[2]\n",
    "stockslopelt=linregress(lt['First_Close'], lt['Year'])[0]\n",
    "stockslopest=linregress(st['First_Close'], st['Year'])[0]\n",
    "stockslopeaft=linregress(aft['First_Close'], aft['Year'])[0]\n",
    " \n",
    "print(\"While there is a \" + str(round(statlt,2)) + \" correlation between BCI and UNH in the long-term analysis, there is a \"+ str(round(statst,2))+ \" correlation when we observe the short-term.\")"
   ]
  },
  {
   "cell_type": "markdown",
   "id": "197cfa03-e517-42dd-9e7c-68ab282902c6",
   "metadata": {},
   "source": [
    "### Considering that the discrepancy between short and long term correlations could trigger an investment, below we evaluate the stock price movement after the selected year and also its correlation with the Business Confidence Index"
   ]
  },
  {
   "cell_type": "code",
   "execution_count": 49,
   "id": "d648e5a3-779d-49a1-b128-eda5e355c816",
   "metadata": {},
   "outputs": [
    {
     "name": "stdout",
     "output_type": "stream",
     "text": [
      "BCI and UNH after the selected year have a correlation of 0.47\n",
      "The slope turned from 0.0 in the short term to 0.02 after the selected year\n"
     ]
    }
   ],
   "source": [
    "print(\"BCI and UNH after the selected year have a correlation of \"+str(round(stataft,2)))\n",
    "print(\"The slope turned from \"+str(round(stockslopest,2))+\" in the short term to \"+str(round(stockslopeaft,2))+\" after the selected year\")"
   ]
  },
  {
   "cell_type": "markdown",
   "id": "a50cbe0a-3b0f-4617-ab95-ab179d4f4956",
   "metadata": {},
   "source": [
    "#### Considering that the slope increased, there is an upward trend on the UNH after the identified year.\n",
    "#### Therefore, it is possible to see that for the selected years the correlation variation between short-term and long-term succesfully triggered a potentially profitable investment.<br>\n",
    "#### Just in order to evaluate the details of movements, below we can see the candlestick chart for the whole period, which includes a slidebar that zooms in/out on the periods of interest."
   ]
  },
  {
   "cell_type": "code",
   "execution_count": 51,
   "id": "7fa5a5a7-c0ff-4c4b-b826-52121975bed2",
   "metadata": {},
   "outputs": [
    {
     "data": {
      "application/vnd.plotly.v1+json": {
       "config": {
        "plotlyServerURL": "https://plot.ly"
       },
       "data": [
        {
         "close": [
          50.84,
          46.48,
          34.36,
          32.63,
          34.21,
          26.25,
          28.08,
          30.45,
          25.39,
          23.73,
          21.01,
          26.6,
          28.33,
          19.65,
          20.93,
          23.52,
          26.6,
          24.98,
          28.06,
          28,
          25.04,
          25.95,
          28.67,
          30.48,
          33,
          33.86,
          32.67,
          30.31,
          29.07,
          28.4,
          30.45,
          31.72,
          35.11,
          36.05,
          36.52,
          36.11,
          41.05,
          42.58,
          45.2,
          49.23,
          48.95,
          51.58,
          49.63,
          47.52,
          46.12,
          47.99,
          48.77,
          50.68,
          51.79,
          55.75,
          58.94,
          56.15,
          55.77,
          58.5,
          51.09,
          54.3,
          55.41,
          56,
          54.39,
          54.24,
          55.21,
          53.45,
          57.21,
          59.93,
          62.63,
          65.48,
          72.85,
          71.74,
          71.61,
          68.26,
          74.48,
          75.3,
          72.28,
          77.27,
          81.99,
          75.04,
          79.63,
          81.75,
          81.05,
          86.68,
          86.25,
          95.01,
          98.63,
          101.09,
          106.25,
          113.63,
          118.29,
          111.4,
          120.21,
          122,
          121.4,
          115.7,
          116.01,
          117.78,
          112.71,
          117.64,
          115.16,
          119.1,
          128.9,
          131.68,
          133.67,
          141.2,
          143.2,
          136.05,
          140,
          141.33,
          158.32,
          160.04,
          162.1,
          165.38,
          164.01,
          174.88,
          175.18,
          185.42,
          191.81,
          198.9,
          195.85,
          210.22,
          228.17,
          220.46,
          236.78,
          226.16,
          214,
          236.4,
          241.51,
          245.34,
          253.22,
          268.46,
          266.04,
          261.35,
          281.36,
          249.12,
          270.2,
          242.22,
          247.26,
          233.07,
          241.8,
          244.01,
          249.01,
          234,
          217.32,
          252.7,
          279.87,
          293.98,
          272.45,
          254.96,
          249.38,
          292.47,
          304.85,
          294.95,
          302.78,
          312.55,
          311.77,
          305.14,
          336.34,
          350.68,
          333.58,
          332.22,
          372.07,
          398.8,
          411.92,
          400.44,
          412.22,
          416.27,
          390.74,
          460.47,
          444.22,
          502.14,
          472.57,
          475.87,
          509.97
         ],
         "high": [
          "57.8600",
          "51.0300",
          "47.3700",
          "38.3300",
          "35.7700",
          "34.4200",
          "28.9700",
          "33.4900",
          "31.3850",
          "25.9900",
          "24.4900",
          "27.3100",
          "30.2500",
          "30.2500",
          "22.8900",
          "26.1000",
          "29.6900",
          "28.4300",
          "29.7100",
          "30.0000",
          "29.8800",
          "26.8000",
          "29.7400",
          "33.2500",
          "36.0700",
          "34.3000",
          "35.1600",
          "34.0000",
          "30.7400",
          "31.8000",
          "31.7200",
          "33.7900",
          "35.9400",
          "37.9500",
          "37.5000",
          "38.0600",
          "42.4400",
          "44.3300",
          "45.7497",
          "49.3950",
          "51.4600",
          "52.6400",
          "53.5000",
          "50.3600",
          "51.2400",
          "50.0000",
          "48.8800",
          "51.7100",
          "54.1834",
          "56.1600",
          "59.4300",
          "59.7100",
          "57.4200",
          "60.7500",
          "59.3100",
          "55.0300",
          "56.7500",
          "58.2900",
          "57.2400",
          "55.8200",
          "56.6900",
          "58.2550",
          "57.3100",
          "63.9500",
          "64.9000",
          "66.1900",
          "73.6600",
          "73.6700",
          "75.8800",
          "75.4900",
          "74.9900",
          "75.5400",
          "77.3299",
          "77.7100",
          "83.3200",
          "83.0500",
          "79.7400",
          "82.5400",
          "87.2400",
          "87.2300",
          "88.8500",
          "95.6700",
          "99.4200",
          "104.0000",
          "114.3200",
          "116.5800",
          "123.7600",
          "122.3200",
          "121.8500",
          "124.1100",
          "126.0500",
          "126.2100",
          "125.1200",
          "125.9900",
          "119.9500",
          "121.0900",
          "117.8900",
          "122.2600",
          "131.1050",
          "135.1100",
          "134.7500",
          "141.3100",
          "144.4800",
          "144.1600",
          "141.7800",
          "146.3600",
          "159.7600",
          "164.0000",
          "163.8000",
          "166.7600",
          "172.1400",
          "176.0700",
          "178.8900",
          "188.6600",
          "193.0000",
          "199.4900",
          "200.7600",
          "212.7700",
          "228.7500",
          "231.7700",
          "250.7900",
          "237.8200",
          "231.2700",
          "241.6700",
          "249.1700",
          "256.7300",
          "259.0100",
          "270.1700",
          "271.1600",
          "272.8100",
          "285.4500",
          "287.9400",
          "272.4400",
          "272.4900",
          "259.2500",
          "250.2000",
          "251.1800",
          "253.4900",
          "268.6900",
          "251.5800",
          "236.5600",
          "255.7200",
          "283.0000",
          "300.0000",
          "302.5400",
          "306.7100",
          "295.8400",
          "304.0000",
          "309.6600",
          "315.8400",
          "310.9700",
          "324.5700",
          "323.8200",
          "335.6500",
          "367.9500",
          "354.1000",
          "367.4900",
          "344.6385",
          "380.5000",
          "402.1600",
          "425.9800",
          "413.7300",
          "422.5300",
          "431.3550",
          "424.4000",
          "461.3900",
          "466.0000",
          "509.2300",
          "503.7500",
          "500.9300",
          "521.8900"
         ],
         "low": [
          "48.1200",
          "44.0000",
          "33.5700",
          "32.5000",
          "31.4900",
          "25.5000",
          "21.2000",
          "27.4400",
          "21.0000",
          "14.5100",
          "15.1900",
          "19.0500",
          "23.7720",
          "19.4200",
          "16.1800",
          "19.8500",
          "22.7400",
          "23.2300",
          "23.6900",
          "25.4200",
          "24.5200",
          "23.5000",
          "25.6400",
          "27.3000",
          "30.9700",
          "31.3900",
          "31.9300",
          "29.6200",
          "27.9700",
          "28.3100",
          "27.1300",
          "30.8200",
          "31.8400",
          "33.9400",
          "34.5000",
          "34.9400",
          "36.3700",
          "40.8950",
          "41.4600",
          "43.3000",
          "46.9700",
          "47.5700",
          "48.1100",
          "41.2700",
          "44.0900",
          "41.3200",
          "43.4200",
          "47.6300",
          "49.8200",
          "50.6800",
          "53.4000",
          "55.4800",
          "53.7800",
          "54.6900",
          "50.8900",
          "50.3200",
          "52.5800",
          "55.3401",
          "51.0900",
          "53.2800",
          "51.3600",
          "52.5100",
          "52.8800",
          "57.0101",
          "58.8700",
          "60.9500",
          "64.6500",
          "71.0000",
          "70.4000",
          "66.7200",
          "67.9500",
          "70.2000",
          "70.8400",
          "69.5700",
          "75.6500",
          "73.6100",
          "74.2600",
          "77.5300",
          "80.5450",
          "78.7400",
          "85.5800",
          "80.7200",
          "93.0100",
          "95.7500",
          "98.4600",
          "105.0700",
          "111.6500",
          "111.1200",
          "111.7400",
          "115.3600",
          "116.6600",
          "95.0000",
          "111.0050",
          "110.0718",
          "109.6100",
          "113.0500",
          "107.5100",
          "108.8301",
          "119.3700",
          "125.2600",
          "128.5300",
          "133.0200",
          "139.3200",
          "135.5500",
          "132.3900",
          "133.0300",
          "136.2200",
          "156.2300",
          "156.0900",
          "156.4900",
          "162.7400",
          "164.2500",
          "166.6500",
          "175.1900",
          "183.8600",
          "190.6300",
          "188.2500",
          "186.0000",
          "208.9200",
          "218.1900",
          "220.0000",
          "208.4800",
          "212.5000",
          "214.6300",
          "228.2300",
          "241.2900",
          "244.1200",
          "252.2300",
          "257.4828",
          "253.3200",
          "258.2800",
          "231.8100",
          "236.1300",
          "239.1500",
          "234.5100",
          "208.0700",
          "227.1800",
          "234.8300",
          "239.5400",
          "220.7800",
          "213.1200",
          "212.0800",
          "249.0900",
          "273.8500",
          "271.1800",
          "245.3000",
          "187.7200",
          "226.0300",
          "275.5600",
          "273.7100",
          "287.1000",
          "299.2000",
          "289.6400",
          "299.6000",
          "307.3600",
          "329.4000",
          "329.0100",
          "320.3500",
          "332.6700",
          "360.5500",
          "400.5300",
          "387.2500",
          "401.8100",
          "404.3000",
          "390.4600",
          "383.1200",
          "436.0000",
          "439.2186",
          "447.2700",
          "445.7350",
          "467.7250"
         ],
         "open": [
          57.19,
          50.36,
          46.47,
          34.84,
          32.9,
          34.22,
          26.12,
          27.99,
          30.49,
          25.97,
          23.68,
          21.67,
          26.7,
          28,
          19.19,
          20.61,
          23.56,
          26.9,
          25.09,
          28.34,
          27.94,
          24.89,
          26.02,
          29,
          31.38,
          33.03,
          34,
          32.8,
          30.5,
          29.18,
          28.31,
          30.89,
          32.01,
          35.07,
          36.27,
          37.14,
          36.38,
          41.36,
          42.56,
          45.5,
          49.4,
          48.7,
          51.84,
          50.28,
          47.58,
          45.77,
          46.81,
          48.59,
          51.24,
          52.16,
          55.75,
          58.94,
          56.27,
          55.22,
          58.89,
          51.21,
          54.4,
          55.72,
          55.86,
          54.56,
          54.88,
          55.74,
          53.34,
          57.16,
          59.96,
          62.89,
          65.89,
          73.23,
          71.81,
          71.74,
          68.27,
          73.64,
          74.91,
          72.14,
          76.7,
          82.35,
          75.05,
          79.77,
          81.74,
          81.14,
          87.12,
          86,
          95.45,
          98.75,
          101.5,
          106.73,
          113.77,
          119.52,
          112.29,
          120.54,
          122.95,
          121.61,
          113.5,
          115.94,
          118.64,
          113.53,
          116.91,
          114.83,
          119.49,
          128.69,
          132.61,
          133.58,
          141.16,
          143.42,
          136.82,
          139.35,
          141.51,
          159.12,
          161.13,
          162.75,
          166.72,
          164.62,
          175,
          175.78,
          186.29,
          193.4,
          199.79,
          196.59,
          211.62,
          228.89,
          221.02,
          235.26,
          225.7,
          218.46,
          237,
          243.74,
          245,
          256.1,
          268,
          267.25,
          262.92,
          283,
          245,
          268.47,
          243.56,
          249.71,
          233.07,
          241.49,
          245.95,
          249.19,
          231.74,
          219.19,
          253.99,
          281.78,
          293.98,
          275.13,
          257.34,
          238.69,
          288.39,
          304.02,
          295.83,
          303.59,
          310.16,
          312.91,
          312.64,
          344.77,
          351.45,
          335.03,
          334.36,
          372.2,
          401,
          413.73,
          402.03,
          413.57,
          416.54,
          391.6,
          461.82,
          452.89,
          500,
          475,
          470.89
         ],
         "type": "candlestick",
         "x": [
          "2008-01-01T00:00:00",
          "2008-02-01T00:00:00",
          "2008-03-01T00:00:00",
          "2008-04-01T00:00:00",
          "2008-05-01T00:00:00",
          "2008-06-01T00:00:00",
          "2008-07-01T00:00:00",
          "2008-08-01T00:00:00",
          "2008-09-01T00:00:00",
          "2008-10-01T00:00:00",
          "2008-11-01T00:00:00",
          "2008-12-01T00:00:00",
          "2009-01-01T00:00:00",
          "2009-02-01T00:00:00",
          "2009-03-01T00:00:00",
          "2009-04-01T00:00:00",
          "2009-05-01T00:00:00",
          "2009-06-01T00:00:00",
          "2009-07-01T00:00:00",
          "2009-08-01T00:00:00",
          "2009-09-01T00:00:00",
          "2009-10-01T00:00:00",
          "2009-11-01T00:00:00",
          "2009-12-01T00:00:00",
          "2010-01-01T00:00:00",
          "2010-02-01T00:00:00",
          "2010-03-01T00:00:00",
          "2010-04-01T00:00:00",
          "2010-05-01T00:00:00",
          "2010-06-01T00:00:00",
          "2010-07-01T00:00:00",
          "2010-08-01T00:00:00",
          "2010-09-01T00:00:00",
          "2010-10-01T00:00:00",
          "2010-11-01T00:00:00",
          "2010-12-01T00:00:00",
          "2011-01-01T00:00:00",
          "2011-02-01T00:00:00",
          "2011-03-01T00:00:00",
          "2011-04-01T00:00:00",
          "2011-05-01T00:00:00",
          "2011-06-01T00:00:00",
          "2011-07-01T00:00:00",
          "2011-08-01T00:00:00",
          "2011-09-01T00:00:00",
          "2011-10-01T00:00:00",
          "2011-11-01T00:00:00",
          "2011-12-01T00:00:00",
          "2012-01-01T00:00:00",
          "2012-02-01T00:00:00",
          "2012-03-01T00:00:00",
          "2012-04-01T00:00:00",
          "2012-05-01T00:00:00",
          "2012-06-01T00:00:00",
          "2012-07-01T00:00:00",
          "2012-08-01T00:00:00",
          "2012-09-01T00:00:00",
          "2012-10-01T00:00:00",
          "2012-11-01T00:00:00",
          "2012-12-01T00:00:00",
          "2013-01-01T00:00:00",
          "2013-02-01T00:00:00",
          "2013-03-01T00:00:00",
          "2013-04-01T00:00:00",
          "2013-05-01T00:00:00",
          "2013-06-01T00:00:00",
          "2013-07-01T00:00:00",
          "2013-08-01T00:00:00",
          "2013-09-01T00:00:00",
          "2013-10-01T00:00:00",
          "2013-11-01T00:00:00",
          "2013-12-01T00:00:00",
          "2014-01-01T00:00:00",
          "2014-02-01T00:00:00",
          "2014-03-01T00:00:00",
          "2014-04-01T00:00:00",
          "2014-05-01T00:00:00",
          "2014-06-01T00:00:00",
          "2014-07-01T00:00:00",
          "2014-08-01T00:00:00",
          "2014-09-01T00:00:00",
          "2014-10-01T00:00:00",
          "2014-11-01T00:00:00",
          "2014-12-01T00:00:00",
          "2015-01-01T00:00:00",
          "2015-02-01T00:00:00",
          "2015-03-01T00:00:00",
          "2015-04-01T00:00:00",
          "2015-05-01T00:00:00",
          "2015-06-01T00:00:00",
          "2015-07-01T00:00:00",
          "2015-08-01T00:00:00",
          "2015-09-01T00:00:00",
          "2015-10-01T00:00:00",
          "2015-11-01T00:00:00",
          "2015-12-01T00:00:00",
          "2016-01-01T00:00:00",
          "2016-02-01T00:00:00",
          "2016-03-01T00:00:00",
          "2016-04-01T00:00:00",
          "2016-05-01T00:00:00",
          "2016-06-01T00:00:00",
          "2016-07-01T00:00:00",
          "2016-08-01T00:00:00",
          "2016-09-01T00:00:00",
          "2016-10-01T00:00:00",
          "2016-11-01T00:00:00",
          "2016-12-01T00:00:00",
          "2017-01-01T00:00:00",
          "2017-02-01T00:00:00",
          "2017-03-01T00:00:00",
          "2017-04-01T00:00:00",
          "2017-05-01T00:00:00",
          "2017-06-01T00:00:00",
          "2017-07-01T00:00:00",
          "2017-08-01T00:00:00",
          "2017-09-01T00:00:00",
          "2017-10-01T00:00:00",
          "2017-11-01T00:00:00",
          "2017-12-01T00:00:00",
          "2018-01-01T00:00:00",
          "2018-02-01T00:00:00",
          "2018-03-01T00:00:00",
          "2018-04-01T00:00:00",
          "2018-05-01T00:00:00",
          "2018-06-01T00:00:00",
          "2018-07-01T00:00:00",
          "2018-08-01T00:00:00",
          "2018-09-01T00:00:00",
          "2018-10-01T00:00:00",
          "2018-11-01T00:00:00",
          "2018-12-01T00:00:00",
          "2019-01-01T00:00:00",
          "2019-02-01T00:00:00",
          "2019-03-01T00:00:00",
          "2019-04-01T00:00:00",
          "2019-05-01T00:00:00",
          "2019-06-01T00:00:00",
          "2019-07-01T00:00:00",
          "2019-08-01T00:00:00",
          "2019-09-01T00:00:00",
          "2019-10-01T00:00:00",
          "2019-11-01T00:00:00",
          "2019-12-01T00:00:00",
          "2020-01-01T00:00:00",
          "2020-02-01T00:00:00",
          "2020-03-01T00:00:00",
          "2020-04-01T00:00:00",
          "2020-05-01T00:00:00",
          "2020-06-01T00:00:00",
          "2020-07-01T00:00:00",
          "2020-08-01T00:00:00",
          "2020-09-01T00:00:00",
          "2020-10-01T00:00:00",
          "2020-11-01T00:00:00",
          "2020-12-01T00:00:00",
          "2021-01-01T00:00:00",
          "2021-02-01T00:00:00",
          "2021-03-01T00:00:00",
          "2021-04-01T00:00:00",
          "2021-05-01T00:00:00",
          "2021-06-01T00:00:00",
          "2021-07-01T00:00:00",
          "2021-08-01T00:00:00",
          "2021-09-01T00:00:00",
          "2021-10-01T00:00:00",
          "2021-11-01T00:00:00",
          "2021-12-01T00:00:00",
          "2022-01-01T00:00:00",
          "2022-02-01T00:00:00",
          "2022-03-01T00:00:00"
         ]
        }
       ],
       "layout": {
        "autosize": true,
        "template": {
         "data": {
          "bar": [
           {
            "error_x": {
             "color": "#2a3f5f"
            },
            "error_y": {
             "color": "#2a3f5f"
            },
            "marker": {
             "line": {
              "color": "#E5ECF6",
              "width": 0.5
             },
             "pattern": {
              "fillmode": "overlay",
              "size": 10,
              "solidity": 0.2
             }
            },
            "type": "bar"
           }
          ],
          "barpolar": [
           {
            "marker": {
             "line": {
              "color": "#E5ECF6",
              "width": 0.5
             },
             "pattern": {
              "fillmode": "overlay",
              "size": 10,
              "solidity": 0.2
             }
            },
            "type": "barpolar"
           }
          ],
          "carpet": [
           {
            "aaxis": {
             "endlinecolor": "#2a3f5f",
             "gridcolor": "white",
             "linecolor": "white",
             "minorgridcolor": "white",
             "startlinecolor": "#2a3f5f"
            },
            "baxis": {
             "endlinecolor": "#2a3f5f",
             "gridcolor": "white",
             "linecolor": "white",
             "minorgridcolor": "white",
             "startlinecolor": "#2a3f5f"
            },
            "type": "carpet"
           }
          ],
          "choropleth": [
           {
            "colorbar": {
             "outlinewidth": 0,
             "ticks": ""
            },
            "type": "choropleth"
           }
          ],
          "contour": [
           {
            "colorbar": {
             "outlinewidth": 0,
             "ticks": ""
            },
            "colorscale": [
             [
              0,
              "#0d0887"
             ],
             [
              0.1111111111111111,
              "#46039f"
             ],
             [
              0.2222222222222222,
              "#7201a8"
             ],
             [
              0.3333333333333333,
              "#9c179e"
             ],
             [
              0.4444444444444444,
              "#bd3786"
             ],
             [
              0.5555555555555556,
              "#d8576b"
             ],
             [
              0.6666666666666666,
              "#ed7953"
             ],
             [
              0.7777777777777778,
              "#fb9f3a"
             ],
             [
              0.8888888888888888,
              "#fdca26"
             ],
             [
              1,
              "#f0f921"
             ]
            ],
            "type": "contour"
           }
          ],
          "contourcarpet": [
           {
            "colorbar": {
             "outlinewidth": 0,
             "ticks": ""
            },
            "type": "contourcarpet"
           }
          ],
          "heatmap": [
           {
            "colorbar": {
             "outlinewidth": 0,
             "ticks": ""
            },
            "colorscale": [
             [
              0,
              "#0d0887"
             ],
             [
              0.1111111111111111,
              "#46039f"
             ],
             [
              0.2222222222222222,
              "#7201a8"
             ],
             [
              0.3333333333333333,
              "#9c179e"
             ],
             [
              0.4444444444444444,
              "#bd3786"
             ],
             [
              0.5555555555555556,
              "#d8576b"
             ],
             [
              0.6666666666666666,
              "#ed7953"
             ],
             [
              0.7777777777777778,
              "#fb9f3a"
             ],
             [
              0.8888888888888888,
              "#fdca26"
             ],
             [
              1,
              "#f0f921"
             ]
            ],
            "type": "heatmap"
           }
          ],
          "heatmapgl": [
           {
            "colorbar": {
             "outlinewidth": 0,
             "ticks": ""
            },
            "colorscale": [
             [
              0,
              "#0d0887"
             ],
             [
              0.1111111111111111,
              "#46039f"
             ],
             [
              0.2222222222222222,
              "#7201a8"
             ],
             [
              0.3333333333333333,
              "#9c179e"
             ],
             [
              0.4444444444444444,
              "#bd3786"
             ],
             [
              0.5555555555555556,
              "#d8576b"
             ],
             [
              0.6666666666666666,
              "#ed7953"
             ],
             [
              0.7777777777777778,
              "#fb9f3a"
             ],
             [
              0.8888888888888888,
              "#fdca26"
             ],
             [
              1,
              "#f0f921"
             ]
            ],
            "type": "heatmapgl"
           }
          ],
          "histogram": [
           {
            "marker": {
             "pattern": {
              "fillmode": "overlay",
              "size": 10,
              "solidity": 0.2
             }
            },
            "type": "histogram"
           }
          ],
          "histogram2d": [
           {
            "colorbar": {
             "outlinewidth": 0,
             "ticks": ""
            },
            "colorscale": [
             [
              0,
              "#0d0887"
             ],
             [
              0.1111111111111111,
              "#46039f"
             ],
             [
              0.2222222222222222,
              "#7201a8"
             ],
             [
              0.3333333333333333,
              "#9c179e"
             ],
             [
              0.4444444444444444,
              "#bd3786"
             ],
             [
              0.5555555555555556,
              "#d8576b"
             ],
             [
              0.6666666666666666,
              "#ed7953"
             ],
             [
              0.7777777777777778,
              "#fb9f3a"
             ],
             [
              0.8888888888888888,
              "#fdca26"
             ],
             [
              1,
              "#f0f921"
             ]
            ],
            "type": "histogram2d"
           }
          ],
          "histogram2dcontour": [
           {
            "colorbar": {
             "outlinewidth": 0,
             "ticks": ""
            },
            "colorscale": [
             [
              0,
              "#0d0887"
             ],
             [
              0.1111111111111111,
              "#46039f"
             ],
             [
              0.2222222222222222,
              "#7201a8"
             ],
             [
              0.3333333333333333,
              "#9c179e"
             ],
             [
              0.4444444444444444,
              "#bd3786"
             ],
             [
              0.5555555555555556,
              "#d8576b"
             ],
             [
              0.6666666666666666,
              "#ed7953"
             ],
             [
              0.7777777777777778,
              "#fb9f3a"
             ],
             [
              0.8888888888888888,
              "#fdca26"
             ],
             [
              1,
              "#f0f921"
             ]
            ],
            "type": "histogram2dcontour"
           }
          ],
          "mesh3d": [
           {
            "colorbar": {
             "outlinewidth": 0,
             "ticks": ""
            },
            "type": "mesh3d"
           }
          ],
          "parcoords": [
           {
            "line": {
             "colorbar": {
              "outlinewidth": 0,
              "ticks": ""
             }
            },
            "type": "parcoords"
           }
          ],
          "pie": [
           {
            "automargin": true,
            "type": "pie"
           }
          ],
          "scatter": [
           {
            "marker": {
             "colorbar": {
              "outlinewidth": 0,
              "ticks": ""
             }
            },
            "type": "scatter"
           }
          ],
          "scatter3d": [
           {
            "line": {
             "colorbar": {
              "outlinewidth": 0,
              "ticks": ""
             }
            },
            "marker": {
             "colorbar": {
              "outlinewidth": 0,
              "ticks": ""
             }
            },
            "type": "scatter3d"
           }
          ],
          "scattercarpet": [
           {
            "marker": {
             "colorbar": {
              "outlinewidth": 0,
              "ticks": ""
             }
            },
            "type": "scattercarpet"
           }
          ],
          "scattergeo": [
           {
            "marker": {
             "colorbar": {
              "outlinewidth": 0,
              "ticks": ""
             }
            },
            "type": "scattergeo"
           }
          ],
          "scattergl": [
           {
            "marker": {
             "colorbar": {
              "outlinewidth": 0,
              "ticks": ""
             }
            },
            "type": "scattergl"
           }
          ],
          "scattermapbox": [
           {
            "marker": {
             "colorbar": {
              "outlinewidth": 0,
              "ticks": ""
             }
            },
            "type": "scattermapbox"
           }
          ],
          "scatterpolar": [
           {
            "marker": {
             "colorbar": {
              "outlinewidth": 0,
              "ticks": ""
             }
            },
            "type": "scatterpolar"
           }
          ],
          "scatterpolargl": [
           {
            "marker": {
             "colorbar": {
              "outlinewidth": 0,
              "ticks": ""
             }
            },
            "type": "scatterpolargl"
           }
          ],
          "scatterternary": [
           {
            "marker": {
             "colorbar": {
              "outlinewidth": 0,
              "ticks": ""
             }
            },
            "type": "scatterternary"
           }
          ],
          "surface": [
           {
            "colorbar": {
             "outlinewidth": 0,
             "ticks": ""
            },
            "colorscale": [
             [
              0,
              "#0d0887"
             ],
             [
              0.1111111111111111,
              "#46039f"
             ],
             [
              0.2222222222222222,
              "#7201a8"
             ],
             [
              0.3333333333333333,
              "#9c179e"
             ],
             [
              0.4444444444444444,
              "#bd3786"
             ],
             [
              0.5555555555555556,
              "#d8576b"
             ],
             [
              0.6666666666666666,
              "#ed7953"
             ],
             [
              0.7777777777777778,
              "#fb9f3a"
             ],
             [
              0.8888888888888888,
              "#fdca26"
             ],
             [
              1,
              "#f0f921"
             ]
            ],
            "type": "surface"
           }
          ],
          "table": [
           {
            "cells": {
             "fill": {
              "color": "#EBF0F8"
             },
             "line": {
              "color": "white"
             }
            },
            "header": {
             "fill": {
              "color": "#C8D4E3"
             },
             "line": {
              "color": "white"
             }
            },
            "type": "table"
           }
          ]
         },
         "layout": {
          "annotationdefaults": {
           "arrowcolor": "#2a3f5f",
           "arrowhead": 0,
           "arrowwidth": 1
          },
          "autotypenumbers": "strict",
          "coloraxis": {
           "colorbar": {
            "outlinewidth": 0,
            "ticks": ""
           }
          },
          "colorscale": {
           "diverging": [
            [
             0,
             "#8e0152"
            ],
            [
             0.1,
             "#c51b7d"
            ],
            [
             0.2,
             "#de77ae"
            ],
            [
             0.3,
             "#f1b6da"
            ],
            [
             0.4,
             "#fde0ef"
            ],
            [
             0.5,
             "#f7f7f7"
            ],
            [
             0.6,
             "#e6f5d0"
            ],
            [
             0.7,
             "#b8e186"
            ],
            [
             0.8,
             "#7fbc41"
            ],
            [
             0.9,
             "#4d9221"
            ],
            [
             1,
             "#276419"
            ]
           ],
           "sequential": [
            [
             0,
             "#0d0887"
            ],
            [
             0.1111111111111111,
             "#46039f"
            ],
            [
             0.2222222222222222,
             "#7201a8"
            ],
            [
             0.3333333333333333,
             "#9c179e"
            ],
            [
             0.4444444444444444,
             "#bd3786"
            ],
            [
             0.5555555555555556,
             "#d8576b"
            ],
            [
             0.6666666666666666,
             "#ed7953"
            ],
            [
             0.7777777777777778,
             "#fb9f3a"
            ],
            [
             0.8888888888888888,
             "#fdca26"
            ],
            [
             1,
             "#f0f921"
            ]
           ],
           "sequentialminus": [
            [
             0,
             "#0d0887"
            ],
            [
             0.1111111111111111,
             "#46039f"
            ],
            [
             0.2222222222222222,
             "#7201a8"
            ],
            [
             0.3333333333333333,
             "#9c179e"
            ],
            [
             0.4444444444444444,
             "#bd3786"
            ],
            [
             0.5555555555555556,
             "#d8576b"
            ],
            [
             0.6666666666666666,
             "#ed7953"
            ],
            [
             0.7777777777777778,
             "#fb9f3a"
            ],
            [
             0.8888888888888888,
             "#fdca26"
            ],
            [
             1,
             "#f0f921"
            ]
           ]
          },
          "colorway": [
           "#636efa",
           "#EF553B",
           "#00cc96",
           "#ab63fa",
           "#FFA15A",
           "#19d3f3",
           "#FF6692",
           "#B6E880",
           "#FF97FF",
           "#FECB52"
          ],
          "font": {
           "color": "#2a3f5f"
          },
          "geo": {
           "bgcolor": "white",
           "lakecolor": "white",
           "landcolor": "#E5ECF6",
           "showlakes": true,
           "showland": true,
           "subunitcolor": "white"
          },
          "hoverlabel": {
           "align": "left"
          },
          "hovermode": "closest",
          "mapbox": {
           "style": "light"
          },
          "paper_bgcolor": "white",
          "plot_bgcolor": "#E5ECF6",
          "polar": {
           "angularaxis": {
            "gridcolor": "white",
            "linecolor": "white",
            "ticks": ""
           },
           "bgcolor": "#E5ECF6",
           "radialaxis": {
            "gridcolor": "white",
            "linecolor": "white",
            "ticks": ""
           }
          },
          "scene": {
           "xaxis": {
            "backgroundcolor": "#E5ECF6",
            "gridcolor": "white",
            "gridwidth": 2,
            "linecolor": "white",
            "showbackground": true,
            "ticks": "",
            "zerolinecolor": "white"
           },
           "yaxis": {
            "backgroundcolor": "#E5ECF6",
            "gridcolor": "white",
            "gridwidth": 2,
            "linecolor": "white",
            "showbackground": true,
            "ticks": "",
            "zerolinecolor": "white"
           },
           "zaxis": {
            "backgroundcolor": "#E5ECF6",
            "gridcolor": "white",
            "gridwidth": 2,
            "linecolor": "white",
            "showbackground": true,
            "ticks": "",
            "zerolinecolor": "white"
           }
          },
          "shapedefaults": {
           "line": {
            "color": "#2a3f5f"
           }
          },
          "ternary": {
           "aaxis": {
            "gridcolor": "white",
            "linecolor": "white",
            "ticks": ""
           },
           "baxis": {
            "gridcolor": "white",
            "linecolor": "white",
            "ticks": ""
           },
           "bgcolor": "#E5ECF6",
           "caxis": {
            "gridcolor": "white",
            "linecolor": "white",
            "ticks": ""
           }
          },
          "title": {
           "x": 0.05
          },
          "xaxis": {
           "automargin": true,
           "gridcolor": "white",
           "linecolor": "white",
           "ticks": "",
           "title": {
            "standoff": 15
           },
           "zerolinecolor": "white",
           "zerolinewidth": 2
          },
          "yaxis": {
           "automargin": true,
           "gridcolor": "white",
           "linecolor": "white",
           "ticks": "",
           "title": {
            "standoff": 15
           },
           "zerolinecolor": "white",
           "zerolinewidth": 2
          }
         }
        },
        "xaxis": {
         "autorange": true,
         "range": [
          "2007-12-18",
          "2022-03-15"
         ],
         "rangeslider": {
          "autorange": true,
          "range": [
           "2007-12-18",
           "2022-03-15"
          ],
          "yaxis": {
           "_template": null,
           "rangemode": "match"
          }
         },
         "type": "date"
        },
        "yaxis": {
         "autorange": true,
         "range": [
          -13.677777777777782,
          550.0777777777778
         ]
        }
       }
      },
      "image/png": "[encoded data removed]",
      "text/html": [
       "<div>                            <div id=\"582e3117-068d-4613-8abc-0f7419e238bc\" class=\"plotly-graph-div\" style=\"height:525px; width:100%;\"></div>            <script type=\"text/javascript\">                require([\"plotly\"], function(Plotly) {                    window.PLOTLYENV=window.PLOTLYENV || {};                                    if (document.getElementById(\"582e3117-068d-4613-8abc-0f7419e238bc\")) {                    Plotly.newPlot(                        \"582e3117-068d-4613-8abc-0f7419e238bc\",                        [{\"close\":[50.84,46.48,34.36,32.63,34.21,26.25,28.08,30.45,25.39,23.73,21.01,26.6,28.33,19.65,20.93,23.52,26.6,24.98,28.06,28.0,25.04,25.95,28.67,30.48,33.0,33.86,32.67,30.31,29.07,28.4,30.45,31.72,35.11,36.05,36.52,36.11,41.05,42.58,45.2,49.23,48.95,51.58,49.63,47.52,46.12,47.99,48.77,50.68,51.79,55.75,58.94,56.15,55.77,58.5,51.09,54.3,55.41,56.0,54.39,54.24,55.21,53.45,57.21,59.93,62.63,65.48,72.85,71.74,71.61,68.26,74.48,75.3,72.28,77.27,81.99,75.04,79.63,81.75,81.05,86.68,86.25,95.01,98.63,101.09,106.25,113.63,118.29,111.4,120.21,122.0,121.4,115.7,116.01,117.78,112.71,117.64,115.16,119.1,128.9,131.68,133.67,141.2,143.2,136.05,140.0,141.33,158.32,160.04,162.1,165.38,164.01,174.88,175.18,185.42,191.81,198.9,195.85,210.22,228.17,220.46,236.78,226.16,214.0,236.4,241.51,245.34,253.22,268.46,266.04,261.35,281.36,249.12,270.2,242.22,247.26,233.07,241.8,244.01,249.01,234.0,217.32,252.7,279.87,293.98,272.45,254.96,249.38,292.47,304.85,294.95,302.78,312.55,311.77,305.14,336.34,350.68,333.58,332.22,372.07,398.8,411.92,400.44,412.22,416.27,390.74,460.47,444.22,502.14,472.57,475.87,509.97],\"high\":[\"57.8600\",\"51.0300\",\"47.3700\",\"38.3300\",\"35.7700\",\"34.4200\",\"28.9700\",\"33.4900\",\"31.3850\",\"25.9900\",\"24.4900\",\"27.3100\",\"30.2500\",\"30.2500\",\"22.8900\",\"26.1000\",\"29.6900\",\"28.4300\",\"29.7100\",\"30.0000\",\"29.8800\",\"26.8000\",\"29.7400\",\"33.2500\",\"36.0700\",\"34.3000\",\"35.1600\",\"34.0000\",\"30.7400\",\"31.8000\",\"31.7200\",\"33.7900\",\"35.9400\",\"37.9500\",\"37.5000\",\"38.0600\",\"42.4400\",\"44.3300\",\"45.7497\",\"49.3950\",\"51.4600\",\"52.6400\",\"53.5000\",\"50.3600\",\"51.2400\",\"50.0000\",\"48.8800\",\"51.7100\",\"54.1834\",\"56.1600\",\"59.4300\",\"59.7100\",\"57.4200\",\"60.7500\",\"59.3100\",\"55.0300\",\"56.7500\",\"58.2900\",\"57.2400\",\"55.8200\",\"56.6900\",\"58.2550\",\"57.3100\",\"63.9500\",\"64.9000\",\"66.1900\",\"73.6600\",\"73.6700\",\"75.8800\",\"75.4900\",\"74.9900\",\"75.5400\",\"77.3299\",\"77.7100\",\"83.3200\",\"83.0500\",\"79.7400\",\"82.5400\",\"87.2400\",\"87.2300\",\"88.8500\",\"95.6700\",\"99.4200\",\"104.0000\",\"114.3200\",\"116.5800\",\"123.7600\",\"122.3200\",\"121.8500\",\"124.1100\",\"126.0500\",\"126.2100\",\"125.1200\",\"125.9900\",\"119.9500\",\"121.0900\",\"117.8900\",\"122.2600\",\"131.1050\",\"135.1100\",\"134.7500\",\"141.3100\",\"144.4800\",\"144.1600\",\"141.7800\",\"146.3600\",\"159.7600\",\"164.0000\",\"163.8000\",\"166.7600\",\"172.1400\",\"176.0700\",\"178.8900\",\"188.6600\",\"193.0000\",\"199.4900\",\"200.7600\",\"212.7700\",\"228.7500\",\"231.7700\",\"250.7900\",\"237.8200\",\"231.2700\",\"241.6700\",\"249.1700\",\"256.7300\",\"259.0100\",\"270.1700\",\"271.1600\",\"272.8100\",\"285.4500\",\"287.9400\",\"272.4400\",\"272.4900\",\"259.2500\",\"250.2000\",\"251.1800\",\"253.4900\",\"268.6900\",\"251.5800\",\"236.5600\",\"255.7200\",\"283.0000\",\"300.0000\",\"302.5400\",\"306.7100\",\"295.8400\",\"304.0000\",\"309.6600\",\"315.8400\",\"310.9700\",\"324.5700\",\"323.8200\",\"335.6500\",\"367.9500\",\"354.1000\",\"367.4900\",\"344.6385\",\"380.5000\",\"402.1600\",\"425.9800\",\"413.7300\",\"422.5300\",\"431.3550\",\"424.4000\",\"461.3900\",\"466.0000\",\"509.2300\",\"503.7500\",\"500.9300\",\"521.8900\"],\"low\":[\"48.1200\",\"44.0000\",\"33.5700\",\"32.5000\",\"31.4900\",\"25.5000\",\"21.2000\",\"27.4400\",\"21.0000\",\"14.5100\",\"15.1900\",\"19.0500\",\"23.7720\",\"19.4200\",\"16.1800\",\"19.8500\",\"22.7400\",\"23.2300\",\"23.6900\",\"25.4200\",\"24.5200\",\"23.5000\",\"25.6400\",\"27.3000\",\"30.9700\",\"31.3900\",\"31.9300\",\"29.6200\",\"27.9700\",\"28.3100\",\"27.1300\",\"30.8200\",\"31.8400\",\"33.9400\",\"34.5000\",\"34.9400\",\"36.3700\",\"40.8950\",\"41.4600\",\"43.3000\",\"46.9700\",\"47.5700\",\"48.1100\",\"41.2700\",\"44.0900\",\"41.3200\",\"43.4200\",\"47.6300\",\"49.8200\",\"50.6800\",\"53.4000\",\"55.4800\",\"53.7800\",\"54.6900\",\"50.8900\",\"50.3200\",\"52.5800\",\"55.3401\",\"51.0900\",\"53.2800\",\"51.3600\",\"52.5100\",\"52.8800\",\"57.0101\",\"58.8700\",\"60.9500\",\"64.6500\",\"71.0000\",\"70.4000\",\"66.7200\",\"67.9500\",\"70.2000\",\"70.8400\",\"69.5700\",\"75.6500\",\"73.6100\",\"74.2600\",\"77.5300\",\"80.5450\",\"78.7400\",\"85.5800\",\"80.7200\",\"93.0100\",\"95.7500\",\"98.4600\",\"105.0700\",\"111.6500\",\"111.1200\",\"111.7400\",\"115.3600\",\"116.6600\",\"95.0000\",\"111.0050\",\"110.0718\",\"109.6100\",\"113.0500\",\"107.5100\",\"108.8301\",\"119.3700\",\"125.2600\",\"128.5300\",\"133.0200\",\"139.3200\",\"135.5500\",\"132.3900\",\"133.0300\",\"136.2200\",\"156.2300\",\"156.0900\",\"156.4900\",\"162.7400\",\"164.2500\",\"166.6500\",\"175.1900\",\"183.8600\",\"190.6300\",\"188.2500\",\"186.0000\",\"208.9200\",\"218.1900\",\"220.0000\",\"208.4800\",\"212.5000\",\"214.6300\",\"228.2300\",\"241.2900\",\"244.1200\",\"252.2300\",\"257.4828\",\"253.3200\",\"258.2800\",\"231.8100\",\"236.1300\",\"239.1500\",\"234.5100\",\"208.0700\",\"227.1800\",\"234.8300\",\"239.5400\",\"220.7800\",\"213.1200\",\"212.0800\",\"249.0900\",\"273.8500\",\"271.1800\",\"245.3000\",\"187.7200\",\"226.0300\",\"275.5600\",\"273.7100\",\"287.1000\",\"299.2000\",\"289.6400\",\"299.6000\",\"307.3600\",\"329.4000\",\"329.0100\",\"320.3500\",\"332.6700\",\"360.5500\",\"400.5300\",\"387.2500\",\"401.8100\",\"404.3000\",\"390.4600\",\"383.1200\",\"436.0000\",\"439.2186\",\"447.2700\",\"445.7350\",\"467.7250\"],\"open\":[57.19,50.36,46.47,34.84,32.9,34.22,26.12,27.99,30.49,25.97,23.68,21.67,26.7,28.0,19.19,20.61,23.56,26.9,25.09,28.34,27.94,24.89,26.02,29.0,31.38,33.03,34.0,32.8,30.5,29.18,28.31,30.89,32.01,35.07,36.27,37.14,36.38,41.36,42.56,45.5,49.4,48.7,51.84,50.28,47.58,45.77,46.81,48.59,51.24,52.16,55.75,58.94,56.27,55.22,58.89,51.21,54.4,55.72,55.86,54.56,54.88,55.74,53.34,57.16,59.96,62.89,65.89,73.23,71.81,71.74,68.27,73.64,74.91,72.14,76.7,82.35,75.05,79.77,81.74,81.14,87.12,86.0,95.45,98.75,101.5,106.73,113.77,119.52,112.29,120.54,122.95,121.61,113.5,115.94,118.64,113.53,116.91,114.83,119.49,128.69,132.61,133.58,141.16,143.42,136.82,139.35,141.51,159.12,161.13,162.75,166.72,164.62,175.0,175.78,186.29,193.4,199.79,196.59,211.62,228.89,221.02,235.26,225.7,218.46,237.0,243.74,245.0,256.1,268.0,267.25,262.92,283.0,245.0,268.47,243.56,249.71,233.07,241.49,245.95,249.19,231.74,219.19,253.99,281.78,293.98,275.13,257.34,238.69,288.39,304.02,295.83,303.59,310.16,312.91,312.64,344.77,351.45,335.03,334.36,372.2,401.0,413.73,402.03,413.57,416.54,391.6,461.82,452.89,500.0,475.0,470.89],\"x\":[\"2008-01-01T00:00:00\",\"2008-02-01T00:00:00\",\"2008-03-01T00:00:00\",\"2008-04-01T00:00:00\",\"2008-05-01T00:00:00\",\"2008-06-01T00:00:00\",\"2008-07-01T00:00:00\",\"2008-08-01T00:00:00\",\"2008-09-01T00:00:00\",\"2008-10-01T00:00:00\",\"2008-11-01T00:00:00\",\"2008-12-01T00:00:00\",\"2009-01-01T00:00:00\",\"2009-02-01T00:00:00\",\"2009-03-01T00:00:00\",\"2009-04-01T00:00:00\",\"2009-05-01T00:00:00\",\"2009-06-01T00:00:00\",\"2009-07-01T00:00:00\",\"2009-08-01T00:00:00\",\"2009-09-01T00:00:00\",\"2009-10-01T00:00:00\",\"2009-11-01T00:00:00\",\"2009-12-01T00:00:00\",\"2010-01-01T00:00:00\",\"2010-02-01T00:00:00\",\"2010-03-01T00:00:00\",\"2010-04-01T00:00:00\",\"2010-05-01T00:00:00\",\"2010-06-01T00:00:00\",\"2010-07-01T00:00:00\",\"2010-08-01T00:00:00\",\"2010-09-01T00:00:00\",\"2010-10-01T00:00:00\",\"2010-11-01T00:00:00\",\"2010-12-01T00:00:00\",\"2011-01-01T00:00:00\",\"2011-02-01T00:00:00\",\"2011-03-01T00:00:00\",\"2011-04-01T00:00:00\",\"2011-05-01T00:00:00\",\"2011-06-01T00:00:00\",\"2011-07-01T00:00:00\",\"2011-08-01T00:00:00\",\"2011-09-01T00:00:00\",\"2011-10-01T00:00:00\",\"2011-11-01T00:00:00\",\"2011-12-01T00:00:00\",\"2012-01-01T00:00:00\",\"2012-02-01T00:00:00\",\"2012-03-01T00:00:00\",\"2012-04-01T00:00:00\",\"2012-05-01T00:00:00\",\"2012-06-01T00:00:00\",\"2012-07-01T00:00:00\",\"2012-08-01T00:00:00\",\"2012-09-01T00:00:00\",\"2012-10-01T00:00:00\",\"2012-11-01T00:00:00\",\"2012-12-01T00:00:00\",\"2013-01-01T00:00:00\",\"2013-02-01T00:00:00\",\"2013-03-01T00:00:00\",\"2013-04-01T00:00:00\",\"2013-05-01T00:00:00\",\"2013-06-01T00:00:00\",\"2013-07-01T00:00:00\",\"2013-08-01T00:00:00\",\"2013-09-01T00:00:00\",\"2013-10-01T00:00:00\",\"2013-11-01T00:00:00\",\"2013-12-01T00:00:00\",\"2014-01-01T00:00:00\",\"2014-02-01T00:00:00\",\"2014-03-01T00:00:00\",\"2014-04-01T00:00:00\",\"2014-05-01T00:00:00\",\"2014-06-01T00:00:00\",\"2014-07-01T00:00:00\",\"2014-08-01T00:00:00\",\"2014-09-01T00:00:00\",\"2014-10-01T00:00:00\",\"2014-11-01T00:00:00\",\"2014-12-01T00:00:00\",\"2015-01-01T00:00:00\",\"2015-02-01T00:00:00\",\"2015-03-01T00:00:00\",\"2015-04-01T00:00:00\",\"2015-05-01T00:00:00\",\"2015-06-01T00:00:00\",\"2015-07-01T00:00:00\",\"2015-08-01T00:00:00\",\"2015-09-01T00:00:00\",\"2015-10-01T00:00:00\",\"2015-11-01T00:00:00\",\"2015-12-01T00:00:00\",\"2016-01-01T00:00:00\",\"2016-02-01T00:00:00\",\"2016-03-01T00:00:00\",\"2016-04-01T00:00:00\",\"2016-05-01T00:00:00\",\"2016-06-01T00:00:00\",\"2016-07-01T00:00:00\",\"2016-08-01T00:00:00\",\"2016-09-01T00:00:00\",\"2016-10-01T00:00:00\",\"2016-11-01T00:00:00\",\"2016-12-01T00:00:00\",\"2017-01-01T00:00:00\",\"2017-02-01T00:00:00\",\"2017-03-01T00:00:00\",\"2017-04-01T00:00:00\",\"2017-05-01T00:00:00\",\"2017-06-01T00:00:00\",\"2017-07-01T00:00:00\",\"2017-08-01T00:00:00\",\"2017-09-01T00:00:00\",\"2017-10-01T00:00:00\",\"2017-11-01T00:00:00\",\"2017-12-01T00:00:00\",\"2018-01-01T00:00:00\",\"2018-02-01T00:00:00\",\"2018-03-01T00:00:00\",\"2018-04-01T00:00:00\",\"2018-05-01T00:00:00\",\"2018-06-01T00:00:00\",\"2018-07-01T00:00:00\",\"2018-08-01T00:00:00\",\"2018-09-01T00:00:00\",\"2018-10-01T00:00:00\",\"2018-11-01T00:00:00\",\"2018-12-01T00:00:00\",\"2019-01-01T00:00:00\",\"2019-02-01T00:00:00\",\"2019-03-01T00:00:00\",\"2019-04-01T00:00:00\",\"2019-05-01T00:00:00\",\"2019-06-01T00:00:00\",\"2019-07-01T00:00:00\",\"2019-08-01T00:00:00\",\"2019-09-01T00:00:00\",\"2019-10-01T00:00:00\",\"2019-11-01T00:00:00\",\"2019-12-01T00:00:00\",\"2020-01-01T00:00:00\",\"2020-02-01T00:00:00\",\"2020-03-01T00:00:00\",\"2020-04-01T00:00:00\",\"2020-05-01T00:00:00\",\"2020-06-01T00:00:00\",\"2020-07-01T00:00:00\",\"2020-08-01T00:00:00\",\"2020-09-01T00:00:00\",\"2020-10-01T00:00:00\",\"2020-11-01T00:00:00\",\"2020-12-01T00:00:00\",\"2021-01-01T00:00:00\",\"2021-02-01T00:00:00\",\"2021-03-01T00:00:00\",\"2021-04-01T00:00:00\",\"2021-05-01T00:00:00\",\"2021-06-01T00:00:00\",\"2021-07-01T00:00:00\",\"2021-08-01T00:00:00\",\"2021-09-01T00:00:00\",\"2021-10-01T00:00:00\",\"2021-11-01T00:00:00\",\"2021-12-01T00:00:00\",\"2022-01-01T00:00:00\",\"2022-02-01T00:00:00\",\"2022-03-01T00:00:00\"],\"type\":\"candlestick\"}],                        {\"template\":{\"data\":{\"bar\":[{\"error_x\":{\"color\":\"#2a3f5f\"},\"error_y\":{\"color\":\"#2a3f5f\"},\"marker\":{\"line\":{\"color\":\"#E5ECF6\",\"width\":0.5},\"pattern\":{\"fillmode\":\"overlay\",\"size\":10,\"solidity\":0.2}},\"type\":\"bar\"}],\"barpolar\":[{\"marker\":{\"line\":{\"color\":\"#E5ECF6\",\"width\":0.5},\"pattern\":{\"fillmode\":\"overlay\",\"size\":10,\"solidity\":0.2}},\"type\":\"barpolar\"}],\"carpet\":[{\"aaxis\":{\"endlinecolor\":\"#2a3f5f\",\"gridcolor\":\"white\",\"linecolor\":\"white\",\"minorgridcolor\":\"white\",\"startlinecolor\":\"#2a3f5f\"},\"baxis\":{\"endlinecolor\":\"#2a3f5f\",\"gridcolor\":\"white\",\"linecolor\":\"white\",\"minorgridcolor\":\"white\",\"startlinecolor\":\"#2a3f5f\"},\"type\":\"carpet\"}],\"choropleth\":[{\"colorbar\":{\"outlinewidth\":0,\"ticks\":\"\"},\"type\":\"choropleth\"}],\"contour\":[{\"colorbar\":{\"outlinewidth\":0,\"ticks\":\"\"},\"colorscale\":[[0.0,\"#0d0887\"],[0.1111111111111111,\"#46039f\"],[0.2222222222222222,\"#7201a8\"],[0.3333333333333333,\"#9c179e\"],[0.4444444444444444,\"#bd3786\"],[0.5555555555555556,\"#d8576b\"],[0.6666666666666666,\"#ed7953\"],[0.7777777777777778,\"#fb9f3a\"],[0.8888888888888888,\"#fdca26\"],[1.0,\"#f0f921\"]],\"type\":\"contour\"}],\"contourcarpet\":[{\"colorbar\":{\"outlinewidth\":0,\"ticks\":\"\"},\"type\":\"contourcarpet\"}],\"heatmap\":[{\"colorbar\":{\"outlinewidth\":0,\"ticks\":\"\"},\"colorscale\":[[0.0,\"#0d0887\"],[0.1111111111111111,\"#46039f\"],[0.2222222222222222,\"#7201a8\"],[0.3333333333333333,\"#9c179e\"],[0.4444444444444444,\"#bd3786\"],[0.5555555555555556,\"#d8576b\"],[0.6666666666666666,\"#ed7953\"],[0.7777777777777778,\"#fb9f3a\"],[0.8888888888888888,\"#fdca26\"],[1.0,\"#f0f921\"]],\"type\":\"heatmap\"}],\"heatmapgl\":[{\"colorbar\":{\"outlinewidth\":0,\"ticks\":\"\"},\"colorscale\":[[0.0,\"#0d0887\"],[0.1111111111111111,\"#46039f\"],[0.2222222222222222,\"#7201a8\"],[0.3333333333333333,\"#9c179e\"],[0.4444444444444444,\"#bd3786\"],[0.5555555555555556,\"#d8576b\"],[0.6666666666666666,\"#ed7953\"],[0.7777777777777778,\"#fb9f3a\"],[0.8888888888888888,\"#fdca26\"],[1.0,\"#f0f921\"]],\"type\":\"heatmapgl\"}],\"histogram\":[{\"marker\":{\"pattern\":{\"fillmode\":\"overlay\",\"size\":10,\"solidity\":0.2}},\"type\":\"histogram\"}],\"histogram2d\":[{\"colorbar\":{\"outlinewidth\":0,\"ticks\":\"\"},\"colorscale\":[[0.0,\"#0d0887\"],[0.1111111111111111,\"#46039f\"],[0.2222222222222222,\"#7201a8\"],[0.3333333333333333,\"#9c179e\"],[0.4444444444444444,\"#bd3786\"],[0.5555555555555556,\"#d8576b\"],[0.6666666666666666,\"#ed7953\"],[0.7777777777777778,\"#fb9f3a\"],[0.8888888888888888,\"#fdca26\"],[1.0,\"#f0f921\"]],\"type\":\"histogram2d\"}],\"histogram2dcontour\":[{\"colorbar\":{\"outlinewidth\":0,\"ticks\":\"\"},\"colorscale\":[[0.0,\"#0d0887\"],[0.1111111111111111,\"#46039f\"],[0.2222222222222222,\"#7201a8\"],[0.3333333333333333,\"#9c179e\"],[0.4444444444444444,\"#bd3786\"],[0.5555555555555556,\"#d8576b\"],[0.6666666666666666,\"#ed7953\"],[0.7777777777777778,\"#fb9f3a\"],[0.8888888888888888,\"#fdca26\"],[1.0,\"#f0f921\"]],\"type\":\"histogram2dcontour\"}],\"mesh3d\":[{\"colorbar\":{\"outlinewidth\":0,\"ticks\":\"\"},\"type\":\"mesh3d\"}],\"parcoords\":[{\"line\":{\"colorbar\":{\"outlinewidth\":0,\"ticks\":\"\"}},\"type\":\"parcoords\"}],\"pie\":[{\"automargin\":true,\"type\":\"pie\"}],\"scatter\":[{\"marker\":{\"colorbar\":{\"outlinewidth\":0,\"ticks\":\"\"}},\"type\":\"scatter\"}],\"scatter3d\":[{\"line\":{\"colorbar\":{\"outlinewidth\":0,\"ticks\":\"\"}},\"marker\":{\"colorbar\":{\"outlinewidth\":0,\"ticks\":\"\"}},\"type\":\"scatter3d\"}],\"scattercarpet\":[{\"marker\":{\"colorbar\":{\"outlinewidth\":0,\"ticks\":\"\"}},\"type\":\"scattercarpet\"}],\"scattergeo\":[{\"marker\":{\"colorbar\":{\"outlinewidth\":0,\"ticks\":\"\"}},\"type\":\"scattergeo\"}],\"scattergl\":[{\"marker\":{\"colorbar\":{\"outlinewidth\":0,\"ticks\":\"\"}},\"type\":\"scattergl\"}],\"scattermapbox\":[{\"marker\":{\"colorbar\":{\"outlinewidth\":0,\"ticks\":\"\"}},\"type\":\"scattermapbox\"}],\"scatterpolar\":[{\"marker\":{\"colorbar\":{\"outlinewidth\":0,\"ticks\":\"\"}},\"type\":\"scatterpolar\"}],\"scatterpolargl\":[{\"marker\":{\"colorbar\":{\"outlinewidth\":0,\"ticks\":\"\"}},\"type\":\"scatterpolargl\"}],\"scatterternary\":[{\"marker\":{\"colorbar\":{\"outlinewidth\":0,\"ticks\":\"\"}},\"type\":\"scatterternary\"}],\"surface\":[{\"colorbar\":{\"outlinewidth\":0,\"ticks\":\"\"},\"colorscale\":[[0.0,\"#0d0887\"],[0.1111111111111111,\"#46039f\"],[0.2222222222222222,\"#7201a8\"],[0.3333333333333333,\"#9c179e\"],[0.4444444444444444,\"#bd3786\"],[0.5555555555555556,\"#d8576b\"],[0.6666666666666666,\"#ed7953\"],[0.7777777777777778,\"#fb9f3a\"],[0.8888888888888888,\"#fdca26\"],[1.0,\"#f0f921\"]],\"type\":\"surface\"}],\"table\":[{\"cells\":{\"fill\":{\"color\":\"#EBF0F8\"},\"line\":{\"color\":\"white\"}},\"header\":{\"fill\":{\"color\":\"#C8D4E3\"},\"line\":{\"color\":\"white\"}},\"type\":\"table\"}]},\"layout\":{\"annotationdefaults\":{\"arrowcolor\":\"#2a3f5f\",\"arrowhead\":0,\"arrowwidth\":1},\"autotypenumbers\":\"strict\",\"coloraxis\":{\"colorbar\":{\"outlinewidth\":0,\"ticks\":\"\"}},\"colorscale\":{\"diverging\":[[0,\"#8e0152\"],[0.1,\"#c51b7d\"],[0.2,\"#de77ae\"],[0.3,\"#f1b6da\"],[0.4,\"#fde0ef\"],[0.5,\"#f7f7f7\"],[0.6,\"#e6f5d0\"],[0.7,\"#b8e186\"],[0.8,\"#7fbc41\"],[0.9,\"#4d9221\"],[1,\"#276419\"]],\"sequential\":[[0.0,\"#0d0887\"],[0.1111111111111111,\"#46039f\"],[0.2222222222222222,\"#7201a8\"],[0.3333333333333333,\"#9c179e\"],[0.4444444444444444,\"#bd3786\"],[0.5555555555555556,\"#d8576b\"],[0.6666666666666666,\"#ed7953\"],[0.7777777777777778,\"#fb9f3a\"],[0.8888888888888888,\"#fdca26\"],[1.0,\"#f0f921\"]],\"sequentialminus\":[[0.0,\"#0d0887\"],[0.1111111111111111,\"#46039f\"],[0.2222222222222222,\"#7201a8\"],[0.3333333333333333,\"#9c179e\"],[0.4444444444444444,\"#bd3786\"],[0.5555555555555556,\"#d8576b\"],[0.6666666666666666,\"#ed7953\"],[0.7777777777777778,\"#fb9f3a\"],[0.8888888888888888,\"#fdca26\"],[1.0,\"#f0f921\"]]},\"colorway\":[\"#636efa\",\"#EF553B\",\"#00cc96\",\"#ab63fa\",\"#FFA15A\",\"#19d3f3\",\"#FF6692\",\"#B6E880\",\"#FF97FF\",\"#FECB52\"],\"font\":{\"color\":\"#2a3f5f\"},\"geo\":{\"bgcolor\":\"white\",\"lakecolor\":\"white\",\"landcolor\":\"#E5ECF6\",\"showlakes\":true,\"showland\":true,\"subunitcolor\":\"white\"},\"hoverlabel\":{\"align\":\"left\"},\"hovermode\":\"closest\",\"mapbox\":{\"style\":\"light\"},\"paper_bgcolor\":\"white\",\"plot_bgcolor\":\"#E5ECF6\",\"polar\":{\"angularaxis\":{\"gridcolor\":\"white\",\"linecolor\":\"white\",\"ticks\":\"\"},\"bgcolor\":\"#E5ECF6\",\"radialaxis\":{\"gridcolor\":\"white\",\"linecolor\":\"white\",\"ticks\":\"\"}},\"scene\":{\"xaxis\":{\"backgroundcolor\":\"#E5ECF6\",\"gridcolor\":\"white\",\"gridwidth\":2,\"linecolor\":\"white\",\"showbackground\":true,\"ticks\":\"\",\"zerolinecolor\":\"white\"},\"yaxis\":{\"backgroundcolor\":\"#E5ECF6\",\"gridcolor\":\"white\",\"gridwidth\":2,\"linecolor\":\"white\",\"showbackground\":true,\"ticks\":\"\",\"zerolinecolor\":\"white\"},\"zaxis\":{\"backgroundcolor\":\"#E5ECF6\",\"gridcolor\":\"white\",\"gridwidth\":2,\"linecolor\":\"white\",\"showbackground\":true,\"ticks\":\"\",\"zerolinecolor\":\"white\"}},\"shapedefaults\":{\"line\":{\"color\":\"#2a3f5f\"}},\"ternary\":{\"aaxis\":{\"gridcolor\":\"white\",\"linecolor\":\"white\",\"ticks\":\"\"},\"baxis\":{\"gridcolor\":\"white\",\"linecolor\":\"white\",\"ticks\":\"\"},\"bgcolor\":\"#E5ECF6\",\"caxis\":{\"gridcolor\":\"white\",\"linecolor\":\"white\",\"ticks\":\"\"}},\"title\":{\"x\":0.05},\"xaxis\":{\"automargin\":true,\"gridcolor\":\"white\",\"linecolor\":\"white\",\"ticks\":\"\",\"title\":{\"standoff\":15},\"zerolinecolor\":\"white\",\"zerolinewidth\":2},\"yaxis\":{\"automargin\":true,\"gridcolor\":\"white\",\"linecolor\":\"white\",\"ticks\":\"\",\"title\":{\"standoff\":15},\"zerolinecolor\":\"white\",\"zerolinewidth\":2}}}},                        {\"responsive\": true}                    ).then(function(){\n",
       "                            \n",
       "var gd = document.getElementById('582e3117-068d-4613-8abc-0f7419e238bc');\n",
       "var x = new MutationObserver(function (mutations, observer) {{\n",
       "        var display = window.getComputedStyle(gd).display;\n",
       "        if (!display || display === 'none') {{\n",
       "            console.log([gd, 'removed!']);\n",
       "            Plotly.purge(gd);\n",
       "            observer.disconnect();\n",
       "        }}\n",
       "}});\n",
       "\n",
       "// Listen for the removal of the full notebook cells\n",
       "var notebookContainer = gd.closest('#notebook-container');\n",
       "if (notebookContainer) {{\n",
       "    x.observe(notebookContainer, {childList: true});\n",
       "}}\n",
       "\n",
       "// Listen for the clearing of the current output cell\n",
       "var outputEl = gd.closest('.output');\n",
       "if (outputEl) {{\n",
       "    x.observe(outputEl, {childList: true});\n",
       "}}\n",
       "\n",
       "                        })                };                });            </script>        </div>"
      ]
     },
     "metadata": {},
     "output_type": "display_data"
    }
   ],
   "source": [
    "fig = go.Figure(data=[go.Candlestick(x=final_df['Date'],\n",
    "                open=final_df['First_Open'],\n",
    "                high=final_df['First_High'],\n",
    "                low=final_df['First_Low'],\n",
    "                close=final_df['First_Close'])])\n",
    "fig.show()"
   ]
  },
  {
   "cell_type": "markdown",
   "id": "6d7c55e9-e49e-4ff3-9b92-4ac4790b3111",
   "metadata": {},
   "source": [
    "### 3. Conclusion"
   ]
  },
  {
   "cell_type": "markdown",
   "id": "a13214f9-fe34-406b-9792-8c5958ccf5c9",
   "metadata": {},
   "source": [
    "It was possible to identify that there is a correlation between key DJIA stocks and macroeconomic indicators such as the Business Confidence Index and Employment Rates. The correlation was not strong, but moderate, and could be constantly identified if analysed in the long-term.\n",
    "\n",
    "If we segmented the correlation calculation short vs long term, it was possible to identify high variances in the correlations, which were mostly explained by the Stock Price slope variance. This was used as a trigger to test if the slope would go back to the long-term pattern and create a potentially profitable investment scenario.\n",
    "\n",
    "When we identify a correlation variation that can be explained by the stock price movement, it is plausible to expect that the short-term correlation will be corrected and get closer to the long-term correlation pattern, so we tested it in random years during the period that this scenario was found (Correlation variance and Stock Price Slope variance)\n",
    "\n",
    "The results were positive and agreed with our hypothesis that the stock price slope would correct itself in the direction of the long-term correlation.\n",
    "\n",
    "Even though the research questions were answered and, in this study, we could say that this is a strategy that has the potential of bringing profitable investment opportunities, it is understood that this analysis was an initial trigger of further and deeper studies of the efficacy and precision of the strategy. Therefore this dataset can be constantly updated with new information and moving date ranges so in the future more detailed analysis are generated."
   ]
  },
  {
   "cell_type": "markdown",
   "id": "1f90c678-6ce6-4412-9572-a031133b0191",
   "metadata": {},
   "source": [
    "### 4. References"
   ]
  },
  {
   "cell_type": "markdown",
   "id": "d4552a30-fe9a-4adf-9a9f-f50a4f427d7a",
   "metadata": {},
   "source": [
    "Ref 1|\n",
    "Ref 2|\n",
    "Ref 3|\n",
    "Ref 4|\n",
    "Ref 5|\n",
    "Ref 6|\n",
    "Ref 7|"
   ]
  },
  {
   "cell_type": "markdown",
   "id": "9c757217-d89c-42ed-8b87-c946f28cb956",
   "metadata": {},
   "source": [
    "### 5. csv Extraction"
   ]
  },
  {
   "cell_type": "code",
   "execution_count": null,
   "id": "9999a418-1a39-424e-ac60-74a28c4fb2cb",
   "metadata": {},
   "outputs": [],
   "source": [
    "dj_rank.to_csv(r\"C:\\Users\\eduar\\OneDrive\\Documents\\Master of Analytics\\Intro to Analytics\\Assignment 3_4\\Assignment 3\\djrank.csv\")\n",
    "ts_rank30.to_csv(r\"C:\\Users\\eduar\\OneDrive\\Documents\\Master of Analytics\\Intro to Analytics\\Assignment 3_4\\Assignment 3\\ts_rank30.csv\")\n",
    "ts_dia.to_csv(r\"C:\\Users\\eduar\\OneDrive\\Documents\\Master of Analytics\\Intro to Analytics\\Assignment 3_4\\Assignment 3\\ts_dia.csv\")\n",
    "ts_rank1.to_csv(r\"C:\\Users\\eduar\\OneDrive\\Documents\\Master of Analytics\\Intro to Analytics\\Assignment 3_4\\Assignment 3\\ts_rank1.csv\")\n",
    "ts_bci.to_csv(r\"C:\\Users\\eduar\\OneDrive\\Documents\\Master of Analytics\\Intro to Analytics\\Assignment 3_4\\Assignment 3\\bci.csv\")\n",
    "ts_emp.to_csv(r\"C:\\Users\\eduar\\OneDrive\\Documents\\Master of Analytics\\Intro to Analytics\\Assignment 3_4\\Assignment 3\\emp.csv\")"
   ]
  }
 ],
 "metadata": {
  "kernelspec": {
   "display_name": "Python 3 (ipykernel)",
   "language": "python",
   "name": "python3"
  },
  "language_info": {
   "codemirror_mode": {
    "name": "ipython",
    "version": 3
   },
   "file_extension": ".py",
   "mimetype": "text/x-python",
   "name": "python",
   "nbconvert_exporter": "python",
   "pygments_lexer": "ipython3",
   "version": "3.9.12"
  }
 },
 "nbformat": 4,
 "nbformat_minor": 5
}
